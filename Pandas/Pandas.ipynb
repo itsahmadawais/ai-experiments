{
 "cells": [
  {
   "cell_type": "code",
   "execution_count": 1,
   "id": "0c37c5a4-5571-431d-8cba-3a0ca2140df0",
   "metadata": {},
   "outputs": [],
   "source": [
    "import numpy as np\n",
    "import pandas as pd"
   ]
  },
  {
   "cell_type": "code",
   "execution_count": 2,
   "id": "09be6171-66d8-4d36-90b3-2574d7b887f3",
   "metadata": {},
   "outputs": [],
   "source": [
    "dict1 = {\n",
    "    \"name\" : [\"Harry\", \"Rohan\", \"Ali\"],\n",
    "    \"marks\": [10,20,30]\n",
    "}"
   ]
  },
  {
   "cell_type": "code",
   "execution_count": 3,
   "id": "3c3e3e85-45c8-4320-998f-b7c01168bbb9",
   "metadata": {},
   "outputs": [
    {
     "name": "stdout",
     "output_type": "stream",
     "text": [
      "{'name': ['Harry', 'Rohan', 'Ali'], 'marks': [10, 20, 30]}\n"
     ]
    }
   ],
   "source": [
    "print(dict1)"
   ]
  },
  {
   "cell_type": "code",
   "execution_count": 4,
   "id": "c49f7d5d-4f71-44a8-8f4d-eae91ca1067f",
   "metadata": {},
   "outputs": [],
   "source": [
    "df = pd.DataFrame(dict1)"
   ]
  },
  {
   "cell_type": "code",
   "execution_count": 5,
   "id": "a82c3478-7ded-4779-a405-211e7449e932",
   "metadata": {},
   "outputs": [
    {
     "data": {
      "text/html": [
       "<div>\n",
       "<style scoped>\n",
       "    .dataframe tbody tr th:only-of-type {\n",
       "        vertical-align: middle;\n",
       "    }\n",
       "\n",
       "    .dataframe tbody tr th {\n",
       "        vertical-align: top;\n",
       "    }\n",
       "\n",
       "    .dataframe thead th {\n",
       "        text-align: right;\n",
       "    }\n",
       "</style>\n",
       "<table border=\"1\" class=\"dataframe\">\n",
       "  <thead>\n",
       "    <tr style=\"text-align: right;\">\n",
       "      <th></th>\n",
       "      <th>name</th>\n",
       "      <th>marks</th>\n",
       "    </tr>\n",
       "  </thead>\n",
       "  <tbody>\n",
       "    <tr>\n",
       "      <th>0</th>\n",
       "      <td>Harry</td>\n",
       "      <td>10</td>\n",
       "    </tr>\n",
       "    <tr>\n",
       "      <th>1</th>\n",
       "      <td>Rohan</td>\n",
       "      <td>20</td>\n",
       "    </tr>\n",
       "    <tr>\n",
       "      <th>2</th>\n",
       "      <td>Ali</td>\n",
       "      <td>30</td>\n",
       "    </tr>\n",
       "  </tbody>\n",
       "</table>\n",
       "</div>"
      ],
      "text/plain": [
       "    name  marks\n",
       "0  Harry     10\n",
       "1  Rohan     20\n",
       "2    Ali     30"
      ]
     },
     "execution_count": 5,
     "metadata": {},
     "output_type": "execute_result"
    }
   ],
   "source": [
    "df"
   ]
  },
  {
   "cell_type": "code",
   "execution_count": 6,
   "id": "30445cdd-bc14-4168-b006-7f2dcfd62067",
   "metadata": {},
   "outputs": [],
   "source": [
    "# Export to CSV\n",
    "df.to_csv('file.csv')\n",
    "# Export without index\n",
    "df.to_csv('without_index_file.csv', index=False)"
   ]
  },
  {
   "cell_type": "code",
   "execution_count": 7,
   "id": "a1f83927-53af-42cb-923f-a885a7907e8a",
   "metadata": {},
   "outputs": [
    {
     "data": {
      "text/html": [
       "<div>\n",
       "<style scoped>\n",
       "    .dataframe tbody tr th:only-of-type {\n",
       "        vertical-align: middle;\n",
       "    }\n",
       "\n",
       "    .dataframe tbody tr th {\n",
       "        vertical-align: top;\n",
       "    }\n",
       "\n",
       "    .dataframe thead th {\n",
       "        text-align: right;\n",
       "    }\n",
       "</style>\n",
       "<table border=\"1\" class=\"dataframe\">\n",
       "  <thead>\n",
       "    <tr style=\"text-align: right;\">\n",
       "      <th></th>\n",
       "      <th>name</th>\n",
       "      <th>marks</th>\n",
       "    </tr>\n",
       "  </thead>\n",
       "  <tbody>\n",
       "    <tr>\n",
       "      <th>0</th>\n",
       "      <td>Harry</td>\n",
       "      <td>10</td>\n",
       "    </tr>\n",
       "    <tr>\n",
       "      <th>1</th>\n",
       "      <td>Rohan</td>\n",
       "      <td>20</td>\n",
       "    </tr>\n",
       "    <tr>\n",
       "      <th>2</th>\n",
       "      <td>Ali</td>\n",
       "      <td>30</td>\n",
       "    </tr>\n",
       "  </tbody>\n",
       "</table>\n",
       "</div>"
      ],
      "text/plain": [
       "    name  marks\n",
       "0  Harry     10\n",
       "1  Rohan     20\n",
       "2    Ali     30"
      ]
     },
     "execution_count": 7,
     "metadata": {},
     "output_type": "execute_result"
    }
   ],
   "source": [
    "# Preview first n rows\n",
    "df.head(3)"
   ]
  },
  {
   "cell_type": "code",
   "execution_count": 8,
   "id": "eeed6b3e-268f-47fd-a494-fe101d6c3c0a",
   "metadata": {},
   "outputs": [
    {
     "data": {
      "text/html": [
       "<div>\n",
       "<style scoped>\n",
       "    .dataframe tbody tr th:only-of-type {\n",
       "        vertical-align: middle;\n",
       "    }\n",
       "\n",
       "    .dataframe tbody tr th {\n",
       "        vertical-align: top;\n",
       "    }\n",
       "\n",
       "    .dataframe thead th {\n",
       "        text-align: right;\n",
       "    }\n",
       "</style>\n",
       "<table border=\"1\" class=\"dataframe\">\n",
       "  <thead>\n",
       "    <tr style=\"text-align: right;\">\n",
       "      <th></th>\n",
       "      <th>name</th>\n",
       "      <th>marks</th>\n",
       "    </tr>\n",
       "  </thead>\n",
       "  <tbody>\n",
       "    <tr>\n",
       "      <th>1</th>\n",
       "      <td>Rohan</td>\n",
       "      <td>20</td>\n",
       "    </tr>\n",
       "    <tr>\n",
       "      <th>2</th>\n",
       "      <td>Ali</td>\n",
       "      <td>30</td>\n",
       "    </tr>\n",
       "  </tbody>\n",
       "</table>\n",
       "</div>"
      ],
      "text/plain": [
       "    name  marks\n",
       "1  Rohan     20\n",
       "2    Ali     30"
      ]
     },
     "execution_count": 8,
     "metadata": {},
     "output_type": "execute_result"
    }
   ],
   "source": [
    "# Preview last n rows\n",
    "df.tail(2)"
   ]
  },
  {
   "cell_type": "code",
   "execution_count": 9,
   "id": "be1bebef-8360-4458-8285-8bae65f4eec2",
   "metadata": {},
   "outputs": [
    {
     "data": {
      "text/html": [
       "<div>\n",
       "<style scoped>\n",
       "    .dataframe tbody tr th:only-of-type {\n",
       "        vertical-align: middle;\n",
       "    }\n",
       "\n",
       "    .dataframe tbody tr th {\n",
       "        vertical-align: top;\n",
       "    }\n",
       "\n",
       "    .dataframe thead th {\n",
       "        text-align: right;\n",
       "    }\n",
       "</style>\n",
       "<table border=\"1\" class=\"dataframe\">\n",
       "  <thead>\n",
       "    <tr style=\"text-align: right;\">\n",
       "      <th></th>\n",
       "      <th>marks</th>\n",
       "    </tr>\n",
       "  </thead>\n",
       "  <tbody>\n",
       "    <tr>\n",
       "      <th>count</th>\n",
       "      <td>3.0</td>\n",
       "    </tr>\n",
       "    <tr>\n",
       "      <th>mean</th>\n",
       "      <td>20.0</td>\n",
       "    </tr>\n",
       "    <tr>\n",
       "      <th>std</th>\n",
       "      <td>10.0</td>\n",
       "    </tr>\n",
       "    <tr>\n",
       "      <th>min</th>\n",
       "      <td>10.0</td>\n",
       "    </tr>\n",
       "    <tr>\n",
       "      <th>25%</th>\n",
       "      <td>15.0</td>\n",
       "    </tr>\n",
       "    <tr>\n",
       "      <th>50%</th>\n",
       "      <td>20.0</td>\n",
       "    </tr>\n",
       "    <tr>\n",
       "      <th>75%</th>\n",
       "      <td>25.0</td>\n",
       "    </tr>\n",
       "    <tr>\n",
       "      <th>max</th>\n",
       "      <td>30.0</td>\n",
       "    </tr>\n",
       "  </tbody>\n",
       "</table>\n",
       "</div>"
      ],
      "text/plain": [
       "       marks\n",
       "count    3.0\n",
       "mean    20.0\n",
       "std     10.0\n",
       "min     10.0\n",
       "25%     15.0\n",
       "50%     20.0\n",
       "75%     25.0\n",
       "max     30.0"
      ]
     },
     "execution_count": 9,
     "metadata": {},
     "output_type": "execute_result"
    }
   ],
   "source": [
    "# Describe: Provide statistical information\n",
    "df.describe()"
   ]
  },
  {
   "cell_type": "markdown",
   "id": "b3bcec6e-fa5d-42fa-85d6-6ab23c82d165",
   "metadata": {},
   "source": [
    "# Importing Data from CSV"
   ]
  },
  {
   "cell_type": "code",
   "execution_count": 10,
   "id": "e9e02b04-19da-4b04-92d8-ef7ae32de312",
   "metadata": {},
   "outputs": [],
   "source": [
    "data = pd.read_csv('./data/winemag-data_first150k.csv')"
   ]
  },
  {
   "cell_type": "code",
   "execution_count": 11,
   "id": "b1b232fc-da54-4608-b40b-19825e1fd67b",
   "metadata": {},
   "outputs": [
    {
     "data": {
      "text/html": [
       "<div>\n",
       "<style scoped>\n",
       "    .dataframe tbody tr th:only-of-type {\n",
       "        vertical-align: middle;\n",
       "    }\n",
       "\n",
       "    .dataframe tbody tr th {\n",
       "        vertical-align: top;\n",
       "    }\n",
       "\n",
       "    .dataframe thead th {\n",
       "        text-align: right;\n",
       "    }\n",
       "</style>\n",
       "<table border=\"1\" class=\"dataframe\">\n",
       "  <thead>\n",
       "    <tr style=\"text-align: right;\">\n",
       "      <th></th>\n",
       "      <th>Unnamed: 0</th>\n",
       "      <th>country</th>\n",
       "      <th>description</th>\n",
       "      <th>designation</th>\n",
       "      <th>points</th>\n",
       "      <th>price</th>\n",
       "      <th>province</th>\n",
       "      <th>region_1</th>\n",
       "      <th>region_2</th>\n",
       "      <th>variety</th>\n",
       "      <th>winery</th>\n",
       "    </tr>\n",
       "  </thead>\n",
       "  <tbody>\n",
       "    <tr>\n",
       "      <th>0</th>\n",
       "      <td>0</td>\n",
       "      <td>US</td>\n",
       "      <td>This tremendous 100% varietal wine hails from ...</td>\n",
       "      <td>Martha's Vineyard</td>\n",
       "      <td>96</td>\n",
       "      <td>235.0</td>\n",
       "      <td>California</td>\n",
       "      <td>Napa Valley</td>\n",
       "      <td>Napa</td>\n",
       "      <td>Cabernet Sauvignon</td>\n",
       "      <td>Heitz</td>\n",
       "    </tr>\n",
       "    <tr>\n",
       "      <th>1</th>\n",
       "      <td>1</td>\n",
       "      <td>Spain</td>\n",
       "      <td>Ripe aromas of fig, blackberry and cassis are ...</td>\n",
       "      <td>Carodorum Selección Especial Reserva</td>\n",
       "      <td>96</td>\n",
       "      <td>110.0</td>\n",
       "      <td>Northern Spain</td>\n",
       "      <td>Toro</td>\n",
       "      <td>NaN</td>\n",
       "      <td>Tinta de Toro</td>\n",
       "      <td>Bodega Carmen Rodríguez</td>\n",
       "    </tr>\n",
       "    <tr>\n",
       "      <th>2</th>\n",
       "      <td>2</td>\n",
       "      <td>US</td>\n",
       "      <td>Mac Watson honors the memory of a wine once ma...</td>\n",
       "      <td>Special Selected Late Harvest</td>\n",
       "      <td>96</td>\n",
       "      <td>90.0</td>\n",
       "      <td>California</td>\n",
       "      <td>Knights Valley</td>\n",
       "      <td>Sonoma</td>\n",
       "      <td>Sauvignon Blanc</td>\n",
       "      <td>Macauley</td>\n",
       "    </tr>\n",
       "    <tr>\n",
       "      <th>3</th>\n",
       "      <td>3</td>\n",
       "      <td>US</td>\n",
       "      <td>This spent 20 months in 30% new French oak, an...</td>\n",
       "      <td>Reserve</td>\n",
       "      <td>96</td>\n",
       "      <td>65.0</td>\n",
       "      <td>Oregon</td>\n",
       "      <td>Willamette Valley</td>\n",
       "      <td>Willamette Valley</td>\n",
       "      <td>Pinot Noir</td>\n",
       "      <td>Ponzi</td>\n",
       "    </tr>\n",
       "    <tr>\n",
       "      <th>4</th>\n",
       "      <td>4</td>\n",
       "      <td>France</td>\n",
       "      <td>This is the top wine from La Bégude, named aft...</td>\n",
       "      <td>La Brûlade</td>\n",
       "      <td>95</td>\n",
       "      <td>66.0</td>\n",
       "      <td>Provence</td>\n",
       "      <td>Bandol</td>\n",
       "      <td>NaN</td>\n",
       "      <td>Provence red blend</td>\n",
       "      <td>Domaine de la Bégude</td>\n",
       "    </tr>\n",
       "    <tr>\n",
       "      <th>...</th>\n",
       "      <td>...</td>\n",
       "      <td>...</td>\n",
       "      <td>...</td>\n",
       "      <td>...</td>\n",
       "      <td>...</td>\n",
       "      <td>...</td>\n",
       "      <td>...</td>\n",
       "      <td>...</td>\n",
       "      <td>...</td>\n",
       "      <td>...</td>\n",
       "      <td>...</td>\n",
       "    </tr>\n",
       "    <tr>\n",
       "      <th>150925</th>\n",
       "      <td>150925</td>\n",
       "      <td>Italy</td>\n",
       "      <td>Many people feel Fiano represents southern Ita...</td>\n",
       "      <td>NaN</td>\n",
       "      <td>91</td>\n",
       "      <td>20.0</td>\n",
       "      <td>Southern Italy</td>\n",
       "      <td>Fiano di Avellino</td>\n",
       "      <td>NaN</td>\n",
       "      <td>White Blend</td>\n",
       "      <td>Feudi di San Gregorio</td>\n",
       "    </tr>\n",
       "    <tr>\n",
       "      <th>150926</th>\n",
       "      <td>150926</td>\n",
       "      <td>France</td>\n",
       "      <td>Offers an intriguing nose with ginger, lime an...</td>\n",
       "      <td>Cuvée Prestige</td>\n",
       "      <td>91</td>\n",
       "      <td>27.0</td>\n",
       "      <td>Champagne</td>\n",
       "      <td>Champagne</td>\n",
       "      <td>NaN</td>\n",
       "      <td>Champagne Blend</td>\n",
       "      <td>H.Germain</td>\n",
       "    </tr>\n",
       "    <tr>\n",
       "      <th>150927</th>\n",
       "      <td>150927</td>\n",
       "      <td>Italy</td>\n",
       "      <td>This classic example comes from a cru vineyard...</td>\n",
       "      <td>Terre di Dora</td>\n",
       "      <td>91</td>\n",
       "      <td>20.0</td>\n",
       "      <td>Southern Italy</td>\n",
       "      <td>Fiano di Avellino</td>\n",
       "      <td>NaN</td>\n",
       "      <td>White Blend</td>\n",
       "      <td>Terredora</td>\n",
       "    </tr>\n",
       "    <tr>\n",
       "      <th>150928</th>\n",
       "      <td>150928</td>\n",
       "      <td>France</td>\n",
       "      <td>A perfect salmon shade, with scents of peaches...</td>\n",
       "      <td>Grand Brut Rosé</td>\n",
       "      <td>90</td>\n",
       "      <td>52.0</td>\n",
       "      <td>Champagne</td>\n",
       "      <td>Champagne</td>\n",
       "      <td>NaN</td>\n",
       "      <td>Champagne Blend</td>\n",
       "      <td>Gosset</td>\n",
       "    </tr>\n",
       "    <tr>\n",
       "      <th>150929</th>\n",
       "      <td>150929</td>\n",
       "      <td>Italy</td>\n",
       "      <td>More Pinot Grigios should taste like this. A r...</td>\n",
       "      <td>NaN</td>\n",
       "      <td>90</td>\n",
       "      <td>15.0</td>\n",
       "      <td>Northeastern Italy</td>\n",
       "      <td>Alto Adige</td>\n",
       "      <td>NaN</td>\n",
       "      <td>Pinot Grigio</td>\n",
       "      <td>Alois Lageder</td>\n",
       "    </tr>\n",
       "  </tbody>\n",
       "</table>\n",
       "<p>150930 rows × 11 columns</p>\n",
       "</div>"
      ],
      "text/plain": [
       "        Unnamed: 0 country                                        description  \\\n",
       "0                0      US  This tremendous 100% varietal wine hails from ...   \n",
       "1                1   Spain  Ripe aromas of fig, blackberry and cassis are ...   \n",
       "2                2      US  Mac Watson honors the memory of a wine once ma...   \n",
       "3                3      US  This spent 20 months in 30% new French oak, an...   \n",
       "4                4  France  This is the top wine from La Bégude, named aft...   \n",
       "...            ...     ...                                                ...   \n",
       "150925      150925   Italy  Many people feel Fiano represents southern Ita...   \n",
       "150926      150926  France  Offers an intriguing nose with ginger, lime an...   \n",
       "150927      150927   Italy  This classic example comes from a cru vineyard...   \n",
       "150928      150928  France  A perfect salmon shade, with scents of peaches...   \n",
       "150929      150929   Italy  More Pinot Grigios should taste like this. A r...   \n",
       "\n",
       "                                 designation  points  price  \\\n",
       "0                          Martha's Vineyard      96  235.0   \n",
       "1       Carodorum Selección Especial Reserva      96  110.0   \n",
       "2              Special Selected Late Harvest      96   90.0   \n",
       "3                                    Reserve      96   65.0   \n",
       "4                                 La Brûlade      95   66.0   \n",
       "...                                      ...     ...    ...   \n",
       "150925                                   NaN      91   20.0   \n",
       "150926                        Cuvée Prestige      91   27.0   \n",
       "150927                         Terre di Dora      91   20.0   \n",
       "150928                       Grand Brut Rosé      90   52.0   \n",
       "150929                                   NaN      90   15.0   \n",
       "\n",
       "                  province           region_1           region_2  \\\n",
       "0               California        Napa Valley               Napa   \n",
       "1           Northern Spain               Toro                NaN   \n",
       "2               California     Knights Valley             Sonoma   \n",
       "3                   Oregon  Willamette Valley  Willamette Valley   \n",
       "4                 Provence             Bandol                NaN   \n",
       "...                    ...                ...                ...   \n",
       "150925      Southern Italy  Fiano di Avellino                NaN   \n",
       "150926           Champagne          Champagne                NaN   \n",
       "150927      Southern Italy  Fiano di Avellino                NaN   \n",
       "150928           Champagne          Champagne                NaN   \n",
       "150929  Northeastern Italy         Alto Adige                NaN   \n",
       "\n",
       "                   variety                   winery  \n",
       "0       Cabernet Sauvignon                    Heitz  \n",
       "1            Tinta de Toro  Bodega Carmen Rodríguez  \n",
       "2          Sauvignon Blanc                 Macauley  \n",
       "3               Pinot Noir                    Ponzi  \n",
       "4       Provence red blend     Domaine de la Bégude  \n",
       "...                    ...                      ...  \n",
       "150925         White Blend    Feudi di San Gregorio  \n",
       "150926     Champagne Blend                H.Germain  \n",
       "150927         White Blend                Terredora  \n",
       "150928     Champagne Blend                   Gosset  \n",
       "150929        Pinot Grigio            Alois Lageder  \n",
       "\n",
       "[150930 rows x 11 columns]"
      ]
     },
     "execution_count": 11,
     "metadata": {},
     "output_type": "execute_result"
    }
   ],
   "source": [
    "data"
   ]
  },
  {
   "cell_type": "code",
   "execution_count": 12,
   "id": "153cfe71-48f8-4330-b58e-3f5fc72bdb30",
   "metadata": {},
   "outputs": [
    {
     "data": {
      "text/plain": [
       "0             US\n",
       "1          Spain\n",
       "2             US\n",
       "3             US\n",
       "4         France\n",
       "           ...  \n",
       "150925     Italy\n",
       "150926    France\n",
       "150927     Italy\n",
       "150928    France\n",
       "150929     Italy\n",
       "Name: country, Length: 150930, dtype: object"
      ]
     },
     "execution_count": 12,
     "metadata": {},
     "output_type": "execute_result"
    }
   ],
   "source": [
    "# Print Specific Column\n",
    "data.country"
   ]
  },
  {
   "cell_type": "code",
   "execution_count": 13,
   "id": "6d3262e6-c911-4bdb-a588-4078e1f52b5f",
   "metadata": {},
   "outputs": [
    {
     "data": {
      "text/plain": [
       "'US'"
      ]
     },
     "execution_count": 13,
     "metadata": {},
     "output_type": "execute_result"
    }
   ],
   "source": [
    "# Print a Single Value\n",
    "# Print First Record from the Country Series\n",
    "data.country[0]"
   ]
  },
  {
   "cell_type": "code",
   "execution_count": 14,
   "id": "11984abd-8f27-4d07-af26-d08881dd18d9",
   "metadata": {},
   "outputs": [],
   "source": [
    "# Change Index Values\n",
    "# data.index = ['index_1', 'index_2', 'index_3']"
   ]
  },
  {
   "cell_type": "markdown",
   "id": "bf15b383-ad11-490d-81cc-2973ef6767b3",
   "metadata": {},
   "source": [
    "# Series"
   ]
  },
  {
   "cell_type": "code",
   "execution_count": 15,
   "id": "9f17651d-f579-42e1-8eb3-8aa944946a14",
   "metadata": {},
   "outputs": [],
   "source": [
    "series = pd.Series(np.random.rand(34))"
   ]
  },
  {
   "cell_type": "code",
   "execution_count": 16,
   "id": "ea8a031b-7178-42a3-9e11-5a431d6dc270",
   "metadata": {},
   "outputs": [
    {
     "data": {
      "text/plain": [
       "0     0.941891\n",
       "1     0.166783\n",
       "2     0.935563\n",
       "3     0.167580\n",
       "4     0.862980\n",
       "5     0.202684\n",
       "6     0.528161\n",
       "7     0.327895\n",
       "8     0.371110\n",
       "9     0.264088\n",
       "10    0.878312\n",
       "11    0.985431\n",
       "12    0.838569\n",
       "13    0.715506\n",
       "14    0.533566\n",
       "15    0.782868\n",
       "16    0.612066\n",
       "17    0.824448\n",
       "18    0.948561\n",
       "19    0.431642\n",
       "20    0.146139\n",
       "21    0.691007\n",
       "22    0.157850\n",
       "23    0.191726\n",
       "24    0.515116\n",
       "25    0.633078\n",
       "26    0.732380\n",
       "27    0.044948\n",
       "28    0.673861\n",
       "29    0.765513\n",
       "30    0.024069\n",
       "31    0.415974\n",
       "32    0.899741\n",
       "33    0.685809\n",
       "dtype: float64"
      ]
     },
     "execution_count": 16,
     "metadata": {},
     "output_type": "execute_result"
    }
   ],
   "source": [
    "series"
   ]
  },
  {
   "cell_type": "code",
   "execution_count": 17,
   "id": "07dcb58e-8345-4952-8c0e-7efb1a8d3c62",
   "metadata": {},
   "outputs": [
    {
     "data": {
      "text/plain": [
       "pandas.core.series.Series"
      ]
     },
     "execution_count": 17,
     "metadata": {},
     "output_type": "execute_result"
    }
   ],
   "source": [
    "type(series)"
   ]
  },
  {
   "cell_type": "markdown",
   "id": "0cbd0ff7-9fd7-4114-bdaa-0602946804bf",
   "metadata": {},
   "source": [
    "# Data Frame"
   ]
  },
  {
   "cell_type": "code",
   "execution_count": 18,
   "id": "45cec498-0620-43f5-884e-222b6a74f962",
   "metadata": {},
   "outputs": [
    {
     "data": {
      "text/html": [
       "<div>\n",
       "<style scoped>\n",
       "    .dataframe tbody tr th:only-of-type {\n",
       "        vertical-align: middle;\n",
       "    }\n",
       "\n",
       "    .dataframe tbody tr th {\n",
       "        vertical-align: top;\n",
       "    }\n",
       "\n",
       "    .dataframe thead th {\n",
       "        text-align: right;\n",
       "    }\n",
       "</style>\n",
       "<table border=\"1\" class=\"dataframe\">\n",
       "  <thead>\n",
       "    <tr style=\"text-align: right;\">\n",
       "      <th></th>\n",
       "      <th>0</th>\n",
       "      <th>1</th>\n",
       "      <th>2</th>\n",
       "      <th>3</th>\n",
       "      <th>4</th>\n",
       "    </tr>\n",
       "  </thead>\n",
       "  <tbody>\n",
       "    <tr>\n",
       "      <th>0</th>\n",
       "      <td>0.897407</td>\n",
       "      <td>0.058231</td>\n",
       "      <td>0.828403</td>\n",
       "      <td>0.645409</td>\n",
       "      <td>0.714960</td>\n",
       "    </tr>\n",
       "    <tr>\n",
       "      <th>1</th>\n",
       "      <td>0.875096</td>\n",
       "      <td>0.163784</td>\n",
       "      <td>0.912980</td>\n",
       "      <td>0.103238</td>\n",
       "      <td>0.222512</td>\n",
       "    </tr>\n",
       "    <tr>\n",
       "      <th>2</th>\n",
       "      <td>0.926726</td>\n",
       "      <td>0.864239</td>\n",
       "      <td>0.825519</td>\n",
       "      <td>0.337132</td>\n",
       "      <td>0.848867</td>\n",
       "    </tr>\n",
       "    <tr>\n",
       "      <th>3</th>\n",
       "      <td>0.789378</td>\n",
       "      <td>0.736826</td>\n",
       "      <td>0.885072</td>\n",
       "      <td>0.717799</td>\n",
       "      <td>0.498275</td>\n",
       "    </tr>\n",
       "    <tr>\n",
       "      <th>4</th>\n",
       "      <td>0.531035</td>\n",
       "      <td>0.872760</td>\n",
       "      <td>0.239729</td>\n",
       "      <td>0.055932</td>\n",
       "      <td>0.315788</td>\n",
       "    </tr>\n",
       "    <tr>\n",
       "      <th>...</th>\n",
       "      <td>...</td>\n",
       "      <td>...</td>\n",
       "      <td>...</td>\n",
       "      <td>...</td>\n",
       "      <td>...</td>\n",
       "    </tr>\n",
       "    <tr>\n",
       "      <th>329</th>\n",
       "      <td>0.731512</td>\n",
       "      <td>0.629534</td>\n",
       "      <td>0.957361</td>\n",
       "      <td>0.042431</td>\n",
       "      <td>0.943622</td>\n",
       "    </tr>\n",
       "    <tr>\n",
       "      <th>330</th>\n",
       "      <td>0.255500</td>\n",
       "      <td>0.376677</td>\n",
       "      <td>0.983048</td>\n",
       "      <td>0.661902</td>\n",
       "      <td>0.992470</td>\n",
       "    </tr>\n",
       "    <tr>\n",
       "      <th>331</th>\n",
       "      <td>0.118202</td>\n",
       "      <td>0.250459</td>\n",
       "      <td>0.162676</td>\n",
       "      <td>0.702767</td>\n",
       "      <td>0.153833</td>\n",
       "    </tr>\n",
       "    <tr>\n",
       "      <th>332</th>\n",
       "      <td>0.585093</td>\n",
       "      <td>0.028558</td>\n",
       "      <td>0.288871</td>\n",
       "      <td>0.171459</td>\n",
       "      <td>0.203818</td>\n",
       "    </tr>\n",
       "    <tr>\n",
       "      <th>333</th>\n",
       "      <td>0.083229</td>\n",
       "      <td>0.308342</td>\n",
       "      <td>0.680057</td>\n",
       "      <td>0.408337</td>\n",
       "      <td>0.415693</td>\n",
       "    </tr>\n",
       "  </tbody>\n",
       "</table>\n",
       "<p>334 rows × 5 columns</p>\n",
       "</div>"
      ],
      "text/plain": [
       "            0         1         2         3         4\n",
       "0    0.897407  0.058231  0.828403  0.645409  0.714960\n",
       "1    0.875096  0.163784  0.912980  0.103238  0.222512\n",
       "2    0.926726  0.864239  0.825519  0.337132  0.848867\n",
       "3    0.789378  0.736826  0.885072  0.717799  0.498275\n",
       "4    0.531035  0.872760  0.239729  0.055932  0.315788\n",
       "..        ...       ...       ...       ...       ...\n",
       "329  0.731512  0.629534  0.957361  0.042431  0.943622\n",
       "330  0.255500  0.376677  0.983048  0.661902  0.992470\n",
       "331  0.118202  0.250459  0.162676  0.702767  0.153833\n",
       "332  0.585093  0.028558  0.288871  0.171459  0.203818\n",
       "333  0.083229  0.308342  0.680057  0.408337  0.415693\n",
       "\n",
       "[334 rows x 5 columns]"
      ]
     },
     "execution_count": 18,
     "metadata": {},
     "output_type": "execute_result"
    }
   ],
   "source": [
    "new_data_frame = pd.DataFrame(np.random.rand(334, 5), index = np.arange(334))\n",
    "new_data_frame"
   ]
  },
  {
   "cell_type": "code",
   "execution_count": 19,
   "id": "2293b082-6913-43eb-b7a3-debd58b4fb8c",
   "metadata": {},
   "outputs": [
    {
     "data": {
      "text/plain": [
       "pandas.core.frame.DataFrame"
      ]
     },
     "execution_count": 19,
     "metadata": {},
     "output_type": "execute_result"
    }
   ],
   "source": [
    "type(new_data_frame)"
   ]
  },
  {
   "cell_type": "code",
   "execution_count": 20,
   "id": "97d6b07d-8e29-477c-b2ca-812b417a63d4",
   "metadata": {},
   "outputs": [
    {
     "data": {
      "text/html": [
       "<div>\n",
       "<style scoped>\n",
       "    .dataframe tbody tr th:only-of-type {\n",
       "        vertical-align: middle;\n",
       "    }\n",
       "\n",
       "    .dataframe tbody tr th {\n",
       "        vertical-align: top;\n",
       "    }\n",
       "\n",
       "    .dataframe thead th {\n",
       "        text-align: right;\n",
       "    }\n",
       "</style>\n",
       "<table border=\"1\" class=\"dataframe\">\n",
       "  <thead>\n",
       "    <tr style=\"text-align: right;\">\n",
       "      <th></th>\n",
       "      <th>0</th>\n",
       "      <th>1</th>\n",
       "      <th>2</th>\n",
       "      <th>3</th>\n",
       "      <th>4</th>\n",
       "    </tr>\n",
       "  </thead>\n",
       "  <tbody>\n",
       "    <tr>\n",
       "      <th>count</th>\n",
       "      <td>334.000000</td>\n",
       "      <td>334.000000</td>\n",
       "      <td>334.000000</td>\n",
       "      <td>334.000000</td>\n",
       "      <td>334.000000</td>\n",
       "    </tr>\n",
       "    <tr>\n",
       "      <th>mean</th>\n",
       "      <td>0.500500</td>\n",
       "      <td>0.510271</td>\n",
       "      <td>0.507376</td>\n",
       "      <td>0.493857</td>\n",
       "      <td>0.489129</td>\n",
       "    </tr>\n",
       "    <tr>\n",
       "      <th>std</th>\n",
       "      <td>0.290384</td>\n",
       "      <td>0.282327</td>\n",
       "      <td>0.286143</td>\n",
       "      <td>0.300178</td>\n",
       "      <td>0.292606</td>\n",
       "    </tr>\n",
       "    <tr>\n",
       "      <th>min</th>\n",
       "      <td>0.000089</td>\n",
       "      <td>0.007187</td>\n",
       "      <td>0.003144</td>\n",
       "      <td>0.001185</td>\n",
       "      <td>0.003440</td>\n",
       "    </tr>\n",
       "    <tr>\n",
       "      <th>25%</th>\n",
       "      <td>0.246429</td>\n",
       "      <td>0.290144</td>\n",
       "      <td>0.256376</td>\n",
       "      <td>0.207113</td>\n",
       "      <td>0.247277</td>\n",
       "    </tr>\n",
       "    <tr>\n",
       "      <th>50%</th>\n",
       "      <td>0.500363</td>\n",
       "      <td>0.496167</td>\n",
       "      <td>0.498284</td>\n",
       "      <td>0.507956</td>\n",
       "      <td>0.476659</td>\n",
       "    </tr>\n",
       "    <tr>\n",
       "      <th>75%</th>\n",
       "      <td>0.762418</td>\n",
       "      <td>0.747361</td>\n",
       "      <td>0.745014</td>\n",
       "      <td>0.751801</td>\n",
       "      <td>0.739971</td>\n",
       "    </tr>\n",
       "    <tr>\n",
       "      <th>max</th>\n",
       "      <td>0.995150</td>\n",
       "      <td>0.994968</td>\n",
       "      <td>0.995632</td>\n",
       "      <td>0.997064</td>\n",
       "      <td>0.997028</td>\n",
       "    </tr>\n",
       "  </tbody>\n",
       "</table>\n",
       "</div>"
      ],
      "text/plain": [
       "                0           1           2           3           4\n",
       "count  334.000000  334.000000  334.000000  334.000000  334.000000\n",
       "mean     0.500500    0.510271    0.507376    0.493857    0.489129\n",
       "std      0.290384    0.282327    0.286143    0.300178    0.292606\n",
       "min      0.000089    0.007187    0.003144    0.001185    0.003440\n",
       "25%      0.246429    0.290144    0.256376    0.207113    0.247277\n",
       "50%      0.500363    0.496167    0.498284    0.507956    0.476659\n",
       "75%      0.762418    0.747361    0.745014    0.751801    0.739971\n",
       "max      0.995150    0.994968    0.995632    0.997064    0.997028"
      ]
     },
     "execution_count": 20,
     "metadata": {},
     "output_type": "execute_result"
    }
   ],
   "source": [
    "new_data_frame.describe()"
   ]
  },
  {
   "cell_type": "code",
   "execution_count": 21,
   "id": "b7d40ccc-1bec-4319-921b-1c6c39bffd2a",
   "metadata": {},
   "outputs": [
    {
     "data": {
      "text/plain": [
       "0    float64\n",
       "1    float64\n",
       "2    float64\n",
       "3    float64\n",
       "4    float64\n",
       "dtype: object"
      ]
     },
     "execution_count": 21,
     "metadata": {},
     "output_type": "execute_result"
    }
   ],
   "source": [
    "new_data_frame.dtypes"
   ]
  },
  {
   "cell_type": "code",
   "execution_count": 22,
   "id": "1fdb64d8-371b-44b0-becd-42fe2a23b59a",
   "metadata": {},
   "outputs": [
    {
     "data": {
      "text/html": [
       "<div>\n",
       "<style scoped>\n",
       "    .dataframe tbody tr th:only-of-type {\n",
       "        vertical-align: middle;\n",
       "    }\n",
       "\n",
       "    .dataframe tbody tr th {\n",
       "        vertical-align: top;\n",
       "    }\n",
       "\n",
       "    .dataframe thead th {\n",
       "        text-align: right;\n",
       "    }\n",
       "</style>\n",
       "<table border=\"1\" class=\"dataframe\">\n",
       "  <thead>\n",
       "    <tr style=\"text-align: right;\">\n",
       "      <th></th>\n",
       "      <th>0</th>\n",
       "      <th>1</th>\n",
       "      <th>2</th>\n",
       "      <th>3</th>\n",
       "      <th>4</th>\n",
       "    </tr>\n",
       "  </thead>\n",
       "  <tbody>\n",
       "    <tr>\n",
       "      <th>0</th>\n",
       "      <td>0.897407</td>\n",
       "      <td>0.058231</td>\n",
       "      <td>0.828403</td>\n",
       "      <td>0.645409</td>\n",
       "      <td>0.714960</td>\n",
       "    </tr>\n",
       "    <tr>\n",
       "      <th>1</th>\n",
       "      <td>0.875096</td>\n",
       "      <td>0.163784</td>\n",
       "      <td>0.912980</td>\n",
       "      <td>0.103238</td>\n",
       "      <td>0.222512</td>\n",
       "    </tr>\n",
       "    <tr>\n",
       "      <th>2</th>\n",
       "      <td>0.926726</td>\n",
       "      <td>0.864239</td>\n",
       "      <td>0.825519</td>\n",
       "      <td>0.337132</td>\n",
       "      <td>0.848867</td>\n",
       "    </tr>\n",
       "    <tr>\n",
       "      <th>3</th>\n",
       "      <td>0.789378</td>\n",
       "      <td>0.736826</td>\n",
       "      <td>0.885072</td>\n",
       "      <td>0.717799</td>\n",
       "      <td>0.498275</td>\n",
       "    </tr>\n",
       "    <tr>\n",
       "      <th>4</th>\n",
       "      <td>0.531035</td>\n",
       "      <td>0.872760</td>\n",
       "      <td>0.239729</td>\n",
       "      <td>0.055932</td>\n",
       "      <td>0.315788</td>\n",
       "    </tr>\n",
       "  </tbody>\n",
       "</table>\n",
       "</div>"
      ],
      "text/plain": [
       "          0         1         2         3         4\n",
       "0  0.897407  0.058231  0.828403  0.645409  0.714960\n",
       "1  0.875096  0.163784  0.912980  0.103238  0.222512\n",
       "2  0.926726  0.864239  0.825519  0.337132  0.848867\n",
       "3  0.789378  0.736826  0.885072  0.717799  0.498275\n",
       "4  0.531035  0.872760  0.239729  0.055932  0.315788"
      ]
     },
     "execution_count": 22,
     "metadata": {},
     "output_type": "execute_result"
    }
   ],
   "source": [
    "new_data_frame.head()"
   ]
  },
  {
   "cell_type": "code",
   "execution_count": 23,
   "id": "f8aeae9e-c83c-43f5-88d7-6753f76db11d",
   "metadata": {},
   "outputs": [
    {
     "name": "stderr",
     "output_type": "stream",
     "text": [
      "C:\\Users\\UsEr\\AppData\\Local\\Temp\\ipykernel_17012\\2778953244.py:1: FutureWarning: ChainedAssignmentError: behaviour will change in pandas 3.0!\n",
      "You are setting values through chained assignment. Currently this works in certain cases, but when using Copy-on-Write (which will become the default behaviour in pandas 3.0) this will never work to update the original DataFrame or Series, because the intermediate object on which we are setting values will behave as a copy.\n",
      "A typical example is when you are setting values in a column of a DataFrame, like:\n",
      "\n",
      "df[\"col\"][row_indexer] = value\n",
      "\n",
      "Use `df.loc[row_indexer, \"col\"] = values` instead, to perform the assignment in a single step and ensure this keeps updating the original `df`.\n",
      "\n",
      "See the caveats in the documentation: https://pandas.pydata.org/pandas-docs/stable/user_guide/indexing.html#returning-a-view-versus-a-copy\n",
      "\n",
      "  new_data_frame[0][0] = \"Random Name\"\n",
      "C:\\Users\\UsEr\\AppData\\Local\\Temp\\ipykernel_17012\\2778953244.py:1: FutureWarning: Setting an item of incompatible dtype is deprecated and will raise an error in a future version of pandas. Value 'Random Name' has dtype incompatible with float64, please explicitly cast to a compatible dtype first.\n",
      "  new_data_frame[0][0] = \"Random Name\"\n"
     ]
    }
   ],
   "source": [
    "new_data_frame[0][0] = \"Random Name\""
   ]
  },
  {
   "cell_type": "code",
   "execution_count": 24,
   "id": "f7d946ab-961d-41e9-955b-7636c8e24582",
   "metadata": {},
   "outputs": [
    {
     "data": {
      "text/html": [
       "<div>\n",
       "<style scoped>\n",
       "    .dataframe tbody tr th:only-of-type {\n",
       "        vertical-align: middle;\n",
       "    }\n",
       "\n",
       "    .dataframe tbody tr th {\n",
       "        vertical-align: top;\n",
       "    }\n",
       "\n",
       "    .dataframe thead th {\n",
       "        text-align: right;\n",
       "    }\n",
       "</style>\n",
       "<table border=\"1\" class=\"dataframe\">\n",
       "  <thead>\n",
       "    <tr style=\"text-align: right;\">\n",
       "      <th></th>\n",
       "      <th>0</th>\n",
       "      <th>1</th>\n",
       "      <th>2</th>\n",
       "      <th>3</th>\n",
       "      <th>4</th>\n",
       "    </tr>\n",
       "  </thead>\n",
       "  <tbody>\n",
       "    <tr>\n",
       "      <th>0</th>\n",
       "      <td>Random Name</td>\n",
       "      <td>0.058231</td>\n",
       "      <td>0.828403</td>\n",
       "      <td>0.645409</td>\n",
       "      <td>0.714960</td>\n",
       "    </tr>\n",
       "    <tr>\n",
       "      <th>1</th>\n",
       "      <td>0.875096</td>\n",
       "      <td>0.163784</td>\n",
       "      <td>0.912980</td>\n",
       "      <td>0.103238</td>\n",
       "      <td>0.222512</td>\n",
       "    </tr>\n",
       "    <tr>\n",
       "      <th>2</th>\n",
       "      <td>0.926726</td>\n",
       "      <td>0.864239</td>\n",
       "      <td>0.825519</td>\n",
       "      <td>0.337132</td>\n",
       "      <td>0.848867</td>\n",
       "    </tr>\n",
       "    <tr>\n",
       "      <th>3</th>\n",
       "      <td>0.789378</td>\n",
       "      <td>0.736826</td>\n",
       "      <td>0.885072</td>\n",
       "      <td>0.717799</td>\n",
       "      <td>0.498275</td>\n",
       "    </tr>\n",
       "    <tr>\n",
       "      <th>4</th>\n",
       "      <td>0.531035</td>\n",
       "      <td>0.872760</td>\n",
       "      <td>0.239729</td>\n",
       "      <td>0.055932</td>\n",
       "      <td>0.315788</td>\n",
       "    </tr>\n",
       "  </tbody>\n",
       "</table>\n",
       "</div>"
      ],
      "text/plain": [
       "             0         1         2         3         4\n",
       "0  Random Name  0.058231  0.828403  0.645409  0.714960\n",
       "1     0.875096  0.163784  0.912980  0.103238  0.222512\n",
       "2     0.926726  0.864239  0.825519  0.337132  0.848867\n",
       "3     0.789378  0.736826  0.885072  0.717799  0.498275\n",
       "4     0.531035  0.872760  0.239729  0.055932  0.315788"
      ]
     },
     "execution_count": 24,
     "metadata": {},
     "output_type": "execute_result"
    }
   ],
   "source": [
    "new_data_frame.head()"
   ]
  },
  {
   "cell_type": "code",
   "execution_count": 25,
   "id": "3a1a4472-b589-4557-8d41-f31a2a6c85ec",
   "metadata": {},
   "outputs": [
    {
     "data": {
      "text/plain": [
       "0     object\n",
       "1    float64\n",
       "2    float64\n",
       "3    float64\n",
       "4    float64\n",
       "dtype: object"
      ]
     },
     "execution_count": 25,
     "metadata": {},
     "output_type": "execute_result"
    }
   ],
   "source": [
    "new_data_frame.dtypes"
   ]
  },
  {
   "cell_type": "code",
   "execution_count": 26,
   "id": "d4d5aebe-d8d4-40c1-8cf1-b1a266d3166c",
   "metadata": {},
   "outputs": [
    {
     "data": {
      "text/plain": [
       "Index([  0,   1,   2,   3,   4,   5,   6,   7,   8,   9,\n",
       "       ...\n",
       "       324, 325, 326, 327, 328, 329, 330, 331, 332, 333],\n",
       "      dtype='int32', length=334)"
      ]
     },
     "execution_count": 26,
     "metadata": {},
     "output_type": "execute_result"
    }
   ],
   "source": [
    "new_data_frame.index"
   ]
  },
  {
   "cell_type": "code",
   "execution_count": 27,
   "id": "87cf9e36-1735-4a0a-a12c-b49b572c6f29",
   "metadata": {},
   "outputs": [
    {
     "data": {
      "text/plain": [
       "RangeIndex(start=0, stop=5, step=1)"
      ]
     },
     "execution_count": 27,
     "metadata": {},
     "output_type": "execute_result"
    }
   ],
   "source": [
    "new_data_frame.columns"
   ]
  },
  {
   "cell_type": "code",
   "execution_count": 28,
   "id": "1e4a8029-c37a-42cf-b1bb-5b0f5f7704d7",
   "metadata": {},
   "outputs": [
    {
     "data": {
      "text/html": [
       "<div>\n",
       "<style scoped>\n",
       "    .dataframe tbody tr th:only-of-type {\n",
       "        vertical-align: middle;\n",
       "    }\n",
       "\n",
       "    .dataframe tbody tr th {\n",
       "        vertical-align: top;\n",
       "    }\n",
       "\n",
       "    .dataframe thead th {\n",
       "        text-align: right;\n",
       "    }\n",
       "</style>\n",
       "<table border=\"1\" class=\"dataframe\">\n",
       "  <thead>\n",
       "    <tr style=\"text-align: right;\">\n",
       "      <th></th>\n",
       "      <th>0</th>\n",
       "      <th>1</th>\n",
       "      <th>2</th>\n",
       "      <th>3</th>\n",
       "      <th>4</th>\n",
       "    </tr>\n",
       "  </thead>\n",
       "  <tbody>\n",
       "    <tr>\n",
       "      <th>0</th>\n",
       "      <td>Random Name</td>\n",
       "      <td>0.058231</td>\n",
       "      <td>0.828403</td>\n",
       "      <td>0.645409</td>\n",
       "      <td>0.714960</td>\n",
       "    </tr>\n",
       "    <tr>\n",
       "      <th>1</th>\n",
       "      <td>0.875096</td>\n",
       "      <td>0.163784</td>\n",
       "      <td>0.912980</td>\n",
       "      <td>0.103238</td>\n",
       "      <td>0.222512</td>\n",
       "    </tr>\n",
       "    <tr>\n",
       "      <th>2</th>\n",
       "      <td>0.926726</td>\n",
       "      <td>0.864239</td>\n",
       "      <td>0.825519</td>\n",
       "      <td>0.337132</td>\n",
       "      <td>0.848867</td>\n",
       "    </tr>\n",
       "    <tr>\n",
       "      <th>3</th>\n",
       "      <td>0.789378</td>\n",
       "      <td>0.736826</td>\n",
       "      <td>0.885072</td>\n",
       "      <td>0.717799</td>\n",
       "      <td>0.498275</td>\n",
       "    </tr>\n",
       "    <tr>\n",
       "      <th>4</th>\n",
       "      <td>0.531035</td>\n",
       "      <td>0.872760</td>\n",
       "      <td>0.239729</td>\n",
       "      <td>0.055932</td>\n",
       "      <td>0.315788</td>\n",
       "    </tr>\n",
       "  </tbody>\n",
       "</table>\n",
       "</div>"
      ],
      "text/plain": [
       "             0         1         2         3         4\n",
       "0  Random Name  0.058231  0.828403  0.645409  0.714960\n",
       "1     0.875096  0.163784  0.912980  0.103238  0.222512\n",
       "2     0.926726  0.864239  0.825519  0.337132  0.848867\n",
       "3     0.789378  0.736826  0.885072  0.717799  0.498275\n",
       "4     0.531035  0.872760  0.239729  0.055932  0.315788"
      ]
     },
     "execution_count": 28,
     "metadata": {},
     "output_type": "execute_result"
    }
   ],
   "source": [
    "new_data_frame.head()"
   ]
  },
  {
   "cell_type": "code",
   "execution_count": 29,
   "id": "3e8bb1fe-982f-4dbe-8456-277aef86c50e",
   "metadata": {},
   "outputs": [
    {
     "data": {
      "text/html": [
       "<div>\n",
       "<style scoped>\n",
       "    .dataframe tbody tr th:only-of-type {\n",
       "        vertical-align: middle;\n",
       "    }\n",
       "\n",
       "    .dataframe tbody tr th {\n",
       "        vertical-align: top;\n",
       "    }\n",
       "\n",
       "    .dataframe thead th {\n",
       "        text-align: right;\n",
       "    }\n",
       "</style>\n",
       "<table border=\"1\" class=\"dataframe\">\n",
       "  <thead>\n",
       "    <tr style=\"text-align: right;\">\n",
       "      <th></th>\n",
       "      <th>0</th>\n",
       "      <th>1</th>\n",
       "      <th>2</th>\n",
       "      <th>3</th>\n",
       "      <th>4</th>\n",
       "    </tr>\n",
       "  </thead>\n",
       "  <tbody>\n",
       "    <tr>\n",
       "      <th>0</th>\n",
       "      <td>0.3</td>\n",
       "      <td>0.058231</td>\n",
       "      <td>0.828403</td>\n",
       "      <td>0.645409</td>\n",
       "      <td>0.714960</td>\n",
       "    </tr>\n",
       "    <tr>\n",
       "      <th>1</th>\n",
       "      <td>0.875096</td>\n",
       "      <td>0.163784</td>\n",
       "      <td>0.912980</td>\n",
       "      <td>0.103238</td>\n",
       "      <td>0.222512</td>\n",
       "    </tr>\n",
       "    <tr>\n",
       "      <th>2</th>\n",
       "      <td>0.926726</td>\n",
       "      <td>0.864239</td>\n",
       "      <td>0.825519</td>\n",
       "      <td>0.337132</td>\n",
       "      <td>0.848867</td>\n",
       "    </tr>\n",
       "    <tr>\n",
       "      <th>3</th>\n",
       "      <td>0.789378</td>\n",
       "      <td>0.736826</td>\n",
       "      <td>0.885072</td>\n",
       "      <td>0.717799</td>\n",
       "      <td>0.498275</td>\n",
       "    </tr>\n",
       "    <tr>\n",
       "      <th>4</th>\n",
       "      <td>0.531035</td>\n",
       "      <td>0.872760</td>\n",
       "      <td>0.239729</td>\n",
       "      <td>0.055932</td>\n",
       "      <td>0.315788</td>\n",
       "    </tr>\n",
       "    <tr>\n",
       "      <th>...</th>\n",
       "      <td>...</td>\n",
       "      <td>...</td>\n",
       "      <td>...</td>\n",
       "      <td>...</td>\n",
       "      <td>...</td>\n",
       "    </tr>\n",
       "    <tr>\n",
       "      <th>329</th>\n",
       "      <td>0.731512</td>\n",
       "      <td>0.629534</td>\n",
       "      <td>0.957361</td>\n",
       "      <td>0.042431</td>\n",
       "      <td>0.943622</td>\n",
       "    </tr>\n",
       "    <tr>\n",
       "      <th>330</th>\n",
       "      <td>0.2555</td>\n",
       "      <td>0.376677</td>\n",
       "      <td>0.983048</td>\n",
       "      <td>0.661902</td>\n",
       "      <td>0.992470</td>\n",
       "    </tr>\n",
       "    <tr>\n",
       "      <th>331</th>\n",
       "      <td>0.118202</td>\n",
       "      <td>0.250459</td>\n",
       "      <td>0.162676</td>\n",
       "      <td>0.702767</td>\n",
       "      <td>0.153833</td>\n",
       "    </tr>\n",
       "    <tr>\n",
       "      <th>332</th>\n",
       "      <td>0.585093</td>\n",
       "      <td>0.028558</td>\n",
       "      <td>0.288871</td>\n",
       "      <td>0.171459</td>\n",
       "      <td>0.203818</td>\n",
       "    </tr>\n",
       "    <tr>\n",
       "      <th>333</th>\n",
       "      <td>0.083229</td>\n",
       "      <td>0.308342</td>\n",
       "      <td>0.680057</td>\n",
       "      <td>0.408337</td>\n",
       "      <td>0.415693</td>\n",
       "    </tr>\n",
       "  </tbody>\n",
       "</table>\n",
       "<p>334 rows × 5 columns</p>\n",
       "</div>"
      ],
      "text/plain": [
       "            0         1         2         3         4\n",
       "0         0.3  0.058231  0.828403  0.645409  0.714960\n",
       "1    0.875096  0.163784  0.912980  0.103238  0.222512\n",
       "2    0.926726  0.864239  0.825519  0.337132  0.848867\n",
       "3    0.789378  0.736826  0.885072  0.717799  0.498275\n",
       "4    0.531035  0.872760  0.239729  0.055932  0.315788\n",
       "..        ...       ...       ...       ...       ...\n",
       "329  0.731512  0.629534  0.957361  0.042431  0.943622\n",
       "330    0.2555  0.376677  0.983048  0.661902  0.992470\n",
       "331  0.118202  0.250459  0.162676  0.702767  0.153833\n",
       "332  0.585093  0.028558  0.288871  0.171459  0.203818\n",
       "333  0.083229  0.308342  0.680057  0.408337  0.415693\n",
       "\n",
       "[334 rows x 5 columns]"
      ]
     },
     "execution_count": 29,
     "metadata": {},
     "output_type": "execute_result"
    }
   ],
   "source": [
    "new_data_frame.to_numpy()\n",
    "new_data_frame[0][0] = 0.3\n",
    "new_data_frame"
   ]
  },
  {
   "cell_type": "code",
   "execution_count": 30,
   "id": "f537520a-3e79-4c81-ba31-744e8c7a72dc",
   "metadata": {},
   "outputs": [
    {
     "data": {
      "text/html": [
       "<div>\n",
       "<style scoped>\n",
       "    .dataframe tbody tr th:only-of-type {\n",
       "        vertical-align: middle;\n",
       "    }\n",
       "\n",
       "    .dataframe tbody tr th {\n",
       "        vertical-align: top;\n",
       "    }\n",
       "\n",
       "    .dataframe thead th {\n",
       "        text-align: right;\n",
       "    }\n",
       "</style>\n",
       "<table border=\"1\" class=\"dataframe\">\n",
       "  <thead>\n",
       "    <tr style=\"text-align: right;\">\n",
       "      <th></th>\n",
       "      <th>0</th>\n",
       "      <th>1</th>\n",
       "      <th>2</th>\n",
       "      <th>3</th>\n",
       "      <th>4</th>\n",
       "      <th>5</th>\n",
       "      <th>6</th>\n",
       "      <th>7</th>\n",
       "      <th>8</th>\n",
       "      <th>9</th>\n",
       "      <th>...</th>\n",
       "      <th>324</th>\n",
       "      <th>325</th>\n",
       "      <th>326</th>\n",
       "      <th>327</th>\n",
       "      <th>328</th>\n",
       "      <th>329</th>\n",
       "      <th>330</th>\n",
       "      <th>331</th>\n",
       "      <th>332</th>\n",
       "      <th>333</th>\n",
       "    </tr>\n",
       "  </thead>\n",
       "  <tbody>\n",
       "    <tr>\n",
       "      <th>0</th>\n",
       "      <td>0.3</td>\n",
       "      <td>0.875096</td>\n",
       "      <td>0.926726</td>\n",
       "      <td>0.789378</td>\n",
       "      <td>0.531035</td>\n",
       "      <td>0.24278</td>\n",
       "      <td>0.102726</td>\n",
       "      <td>0.790833</td>\n",
       "      <td>0.866794</td>\n",
       "      <td>0.126252</td>\n",
       "      <td>...</td>\n",
       "      <td>0.624965</td>\n",
       "      <td>0.963923</td>\n",
       "      <td>0.308652</td>\n",
       "      <td>0.563411</td>\n",
       "      <td>0.187178</td>\n",
       "      <td>0.731512</td>\n",
       "      <td>0.2555</td>\n",
       "      <td>0.118202</td>\n",
       "      <td>0.585093</td>\n",
       "      <td>0.083229</td>\n",
       "    </tr>\n",
       "    <tr>\n",
       "      <th>1</th>\n",
       "      <td>0.058231</td>\n",
       "      <td>0.163784</td>\n",
       "      <td>0.864239</td>\n",
       "      <td>0.736826</td>\n",
       "      <td>0.87276</td>\n",
       "      <td>0.446339</td>\n",
       "      <td>0.51946</td>\n",
       "      <td>0.267074</td>\n",
       "      <td>0.319681</td>\n",
       "      <td>0.935834</td>\n",
       "      <td>...</td>\n",
       "      <td>0.453871</td>\n",
       "      <td>0.796955</td>\n",
       "      <td>0.116258</td>\n",
       "      <td>0.697528</td>\n",
       "      <td>0.206252</td>\n",
       "      <td>0.629534</td>\n",
       "      <td>0.376677</td>\n",
       "      <td>0.250459</td>\n",
       "      <td>0.028558</td>\n",
       "      <td>0.308342</td>\n",
       "    </tr>\n",
       "    <tr>\n",
       "      <th>2</th>\n",
       "      <td>0.828403</td>\n",
       "      <td>0.91298</td>\n",
       "      <td>0.825519</td>\n",
       "      <td>0.885072</td>\n",
       "      <td>0.239729</td>\n",
       "      <td>0.547182</td>\n",
       "      <td>0.966207</td>\n",
       "      <td>0.587485</td>\n",
       "      <td>0.611827</td>\n",
       "      <td>0.649401</td>\n",
       "      <td>...</td>\n",
       "      <td>0.904049</td>\n",
       "      <td>0.976957</td>\n",
       "      <td>0.82218</td>\n",
       "      <td>0.967685</td>\n",
       "      <td>0.885465</td>\n",
       "      <td>0.957361</td>\n",
       "      <td>0.983048</td>\n",
       "      <td>0.162676</td>\n",
       "      <td>0.288871</td>\n",
       "      <td>0.680057</td>\n",
       "    </tr>\n",
       "    <tr>\n",
       "      <th>3</th>\n",
       "      <td>0.645409</td>\n",
       "      <td>0.103238</td>\n",
       "      <td>0.337132</td>\n",
       "      <td>0.717799</td>\n",
       "      <td>0.055932</td>\n",
       "      <td>0.655089</td>\n",
       "      <td>0.898998</td>\n",
       "      <td>0.752784</td>\n",
       "      <td>0.732206</td>\n",
       "      <td>0.274122</td>\n",
       "      <td>...</td>\n",
       "      <td>0.406615</td>\n",
       "      <td>0.79591</td>\n",
       "      <td>0.188581</td>\n",
       "      <td>0.194828</td>\n",
       "      <td>0.495686</td>\n",
       "      <td>0.042431</td>\n",
       "      <td>0.661902</td>\n",
       "      <td>0.702767</td>\n",
       "      <td>0.171459</td>\n",
       "      <td>0.408337</td>\n",
       "    </tr>\n",
       "    <tr>\n",
       "      <th>4</th>\n",
       "      <td>0.71496</td>\n",
       "      <td>0.222512</td>\n",
       "      <td>0.848867</td>\n",
       "      <td>0.498275</td>\n",
       "      <td>0.315788</td>\n",
       "      <td>0.131766</td>\n",
       "      <td>0.591499</td>\n",
       "      <td>0.918197</td>\n",
       "      <td>0.315312</td>\n",
       "      <td>0.971579</td>\n",
       "      <td>...</td>\n",
       "      <td>0.148639</td>\n",
       "      <td>0.780565</td>\n",
       "      <td>0.491348</td>\n",
       "      <td>0.371311</td>\n",
       "      <td>0.658764</td>\n",
       "      <td>0.943622</td>\n",
       "      <td>0.99247</td>\n",
       "      <td>0.153833</td>\n",
       "      <td>0.203818</td>\n",
       "      <td>0.415693</td>\n",
       "    </tr>\n",
       "  </tbody>\n",
       "</table>\n",
       "<p>5 rows × 334 columns</p>\n",
       "</div>"
      ],
      "text/plain": [
       "        0         1         2         3         4         5         6    \\\n",
       "0       0.3  0.875096  0.926726  0.789378  0.531035   0.24278  0.102726   \n",
       "1  0.058231  0.163784  0.864239  0.736826   0.87276  0.446339   0.51946   \n",
       "2  0.828403   0.91298  0.825519  0.885072  0.239729  0.547182  0.966207   \n",
       "3  0.645409  0.103238  0.337132  0.717799  0.055932  0.655089  0.898998   \n",
       "4   0.71496  0.222512  0.848867  0.498275  0.315788  0.131766  0.591499   \n",
       "\n",
       "        7         8         9    ...       324       325       326       327  \\\n",
       "0  0.790833  0.866794  0.126252  ...  0.624965  0.963923  0.308652  0.563411   \n",
       "1  0.267074  0.319681  0.935834  ...  0.453871  0.796955  0.116258  0.697528   \n",
       "2  0.587485  0.611827  0.649401  ...  0.904049  0.976957   0.82218  0.967685   \n",
       "3  0.752784  0.732206  0.274122  ...  0.406615   0.79591  0.188581  0.194828   \n",
       "4  0.918197  0.315312  0.971579  ...  0.148639  0.780565  0.491348  0.371311   \n",
       "\n",
       "        328       329       330       331       332       333  \n",
       "0  0.187178  0.731512    0.2555  0.118202  0.585093  0.083229  \n",
       "1  0.206252  0.629534  0.376677  0.250459  0.028558  0.308342  \n",
       "2  0.885465  0.957361  0.983048  0.162676  0.288871  0.680057  \n",
       "3  0.495686  0.042431  0.661902  0.702767  0.171459  0.408337  \n",
       "4  0.658764  0.943622   0.99247  0.153833  0.203818  0.415693  \n",
       "\n",
       "[5 rows x 334 columns]"
      ]
     },
     "execution_count": 30,
     "metadata": {},
     "output_type": "execute_result"
    }
   ],
   "source": [
    "new_data_frame.T"
   ]
  },
  {
   "cell_type": "code",
   "execution_count": 31,
   "id": "a3ec364b-a6bc-4c2e-8a82-93f1d1f10bc1",
   "metadata": {},
   "outputs": [
    {
     "data": {
      "text/html": [
       "<div>\n",
       "<style scoped>\n",
       "    .dataframe tbody tr th:only-of-type {\n",
       "        vertical-align: middle;\n",
       "    }\n",
       "\n",
       "    .dataframe tbody tr th {\n",
       "        vertical-align: top;\n",
       "    }\n",
       "\n",
       "    .dataframe thead th {\n",
       "        text-align: right;\n",
       "    }\n",
       "</style>\n",
       "<table border=\"1\" class=\"dataframe\">\n",
       "  <thead>\n",
       "    <tr style=\"text-align: right;\">\n",
       "      <th></th>\n",
       "      <th>4</th>\n",
       "      <th>3</th>\n",
       "      <th>2</th>\n",
       "      <th>1</th>\n",
       "      <th>0</th>\n",
       "    </tr>\n",
       "  </thead>\n",
       "  <tbody>\n",
       "    <tr>\n",
       "      <th>0</th>\n",
       "      <td>0.714960</td>\n",
       "      <td>0.645409</td>\n",
       "      <td>0.828403</td>\n",
       "      <td>0.058231</td>\n",
       "      <td>0.3</td>\n",
       "    </tr>\n",
       "    <tr>\n",
       "      <th>1</th>\n",
       "      <td>0.222512</td>\n",
       "      <td>0.103238</td>\n",
       "      <td>0.912980</td>\n",
       "      <td>0.163784</td>\n",
       "      <td>0.875096</td>\n",
       "    </tr>\n",
       "    <tr>\n",
       "      <th>2</th>\n",
       "      <td>0.848867</td>\n",
       "      <td>0.337132</td>\n",
       "      <td>0.825519</td>\n",
       "      <td>0.864239</td>\n",
       "      <td>0.926726</td>\n",
       "    </tr>\n",
       "    <tr>\n",
       "      <th>3</th>\n",
       "      <td>0.498275</td>\n",
       "      <td>0.717799</td>\n",
       "      <td>0.885072</td>\n",
       "      <td>0.736826</td>\n",
       "      <td>0.789378</td>\n",
       "    </tr>\n",
       "    <tr>\n",
       "      <th>4</th>\n",
       "      <td>0.315788</td>\n",
       "      <td>0.055932</td>\n",
       "      <td>0.239729</td>\n",
       "      <td>0.872760</td>\n",
       "      <td>0.531035</td>\n",
       "    </tr>\n",
       "    <tr>\n",
       "      <th>...</th>\n",
       "      <td>...</td>\n",
       "      <td>...</td>\n",
       "      <td>...</td>\n",
       "      <td>...</td>\n",
       "      <td>...</td>\n",
       "    </tr>\n",
       "    <tr>\n",
       "      <th>329</th>\n",
       "      <td>0.943622</td>\n",
       "      <td>0.042431</td>\n",
       "      <td>0.957361</td>\n",
       "      <td>0.629534</td>\n",
       "      <td>0.731512</td>\n",
       "    </tr>\n",
       "    <tr>\n",
       "      <th>330</th>\n",
       "      <td>0.992470</td>\n",
       "      <td>0.661902</td>\n",
       "      <td>0.983048</td>\n",
       "      <td>0.376677</td>\n",
       "      <td>0.2555</td>\n",
       "    </tr>\n",
       "    <tr>\n",
       "      <th>331</th>\n",
       "      <td>0.153833</td>\n",
       "      <td>0.702767</td>\n",
       "      <td>0.162676</td>\n",
       "      <td>0.250459</td>\n",
       "      <td>0.118202</td>\n",
       "    </tr>\n",
       "    <tr>\n",
       "      <th>332</th>\n",
       "      <td>0.203818</td>\n",
       "      <td>0.171459</td>\n",
       "      <td>0.288871</td>\n",
       "      <td>0.028558</td>\n",
       "      <td>0.585093</td>\n",
       "    </tr>\n",
       "    <tr>\n",
       "      <th>333</th>\n",
       "      <td>0.415693</td>\n",
       "      <td>0.408337</td>\n",
       "      <td>0.680057</td>\n",
       "      <td>0.308342</td>\n",
       "      <td>0.083229</td>\n",
       "    </tr>\n",
       "  </tbody>\n",
       "</table>\n",
       "<p>334 rows × 5 columns</p>\n",
       "</div>"
      ],
      "text/plain": [
       "            4         3         2         1         0\n",
       "0    0.714960  0.645409  0.828403  0.058231       0.3\n",
       "1    0.222512  0.103238  0.912980  0.163784  0.875096\n",
       "2    0.848867  0.337132  0.825519  0.864239  0.926726\n",
       "3    0.498275  0.717799  0.885072  0.736826  0.789378\n",
       "4    0.315788  0.055932  0.239729  0.872760  0.531035\n",
       "..        ...       ...       ...       ...       ...\n",
       "329  0.943622  0.042431  0.957361  0.629534  0.731512\n",
       "330  0.992470  0.661902  0.983048  0.376677    0.2555\n",
       "331  0.153833  0.702767  0.162676  0.250459  0.118202\n",
       "332  0.203818  0.171459  0.288871  0.028558  0.585093\n",
       "333  0.415693  0.408337  0.680057  0.308342  0.083229\n",
       "\n",
       "[334 rows x 5 columns]"
      ]
     },
     "execution_count": 31,
     "metadata": {},
     "output_type": "execute_result"
    }
   ],
   "source": [
    "\n",
    "new_data_frame.sort_index(axis=1 , ascending=False)"
   ]
  },
  {
   "cell_type": "markdown",
   "id": "1f32185b-ef7f-4a68-bbdc-f1264bc6a53e",
   "metadata": {},
   "source": [
    "# Sorting\n",
    "\n",
    "Use axis = 0 for Row\n",
    "Use axis = 1 for Column"
   ]
  },
  {
   "cell_type": "code",
   "execution_count": 32,
   "id": "35f73bc7-56a9-43d1-ac44-19b2c2c15d11",
   "metadata": {},
   "outputs": [
    {
     "data": {
      "text/html": [
       "<div>\n",
       "<style scoped>\n",
       "    .dataframe tbody tr th:only-of-type {\n",
       "        vertical-align: middle;\n",
       "    }\n",
       "\n",
       "    .dataframe tbody tr th {\n",
       "        vertical-align: top;\n",
       "    }\n",
       "\n",
       "    .dataframe thead th {\n",
       "        text-align: right;\n",
       "    }\n",
       "</style>\n",
       "<table border=\"1\" class=\"dataframe\">\n",
       "  <thead>\n",
       "    <tr style=\"text-align: right;\">\n",
       "      <th></th>\n",
       "      <th>4</th>\n",
       "      <th>3</th>\n",
       "      <th>2</th>\n",
       "      <th>1</th>\n",
       "      <th>0</th>\n",
       "    </tr>\n",
       "  </thead>\n",
       "  <tbody>\n",
       "    <tr>\n",
       "      <th>0</th>\n",
       "      <td>0.714960</td>\n",
       "      <td>0.645409</td>\n",
       "      <td>0.828403</td>\n",
       "      <td>0.058231</td>\n",
       "      <td>0.3</td>\n",
       "    </tr>\n",
       "    <tr>\n",
       "      <th>1</th>\n",
       "      <td>0.222512</td>\n",
       "      <td>0.103238</td>\n",
       "      <td>0.912980</td>\n",
       "      <td>0.163784</td>\n",
       "      <td>0.875096</td>\n",
       "    </tr>\n",
       "    <tr>\n",
       "      <th>2</th>\n",
       "      <td>0.848867</td>\n",
       "      <td>0.337132</td>\n",
       "      <td>0.825519</td>\n",
       "      <td>0.864239</td>\n",
       "      <td>0.926726</td>\n",
       "    </tr>\n",
       "    <tr>\n",
       "      <th>3</th>\n",
       "      <td>0.498275</td>\n",
       "      <td>0.717799</td>\n",
       "      <td>0.885072</td>\n",
       "      <td>0.736826</td>\n",
       "      <td>0.789378</td>\n",
       "    </tr>\n",
       "    <tr>\n",
       "      <th>4</th>\n",
       "      <td>0.315788</td>\n",
       "      <td>0.055932</td>\n",
       "      <td>0.239729</td>\n",
       "      <td>0.872760</td>\n",
       "      <td>0.531035</td>\n",
       "    </tr>\n",
       "    <tr>\n",
       "      <th>...</th>\n",
       "      <td>...</td>\n",
       "      <td>...</td>\n",
       "      <td>...</td>\n",
       "      <td>...</td>\n",
       "      <td>...</td>\n",
       "    </tr>\n",
       "    <tr>\n",
       "      <th>329</th>\n",
       "      <td>0.943622</td>\n",
       "      <td>0.042431</td>\n",
       "      <td>0.957361</td>\n",
       "      <td>0.629534</td>\n",
       "      <td>0.731512</td>\n",
       "    </tr>\n",
       "    <tr>\n",
       "      <th>330</th>\n",
       "      <td>0.992470</td>\n",
       "      <td>0.661902</td>\n",
       "      <td>0.983048</td>\n",
       "      <td>0.376677</td>\n",
       "      <td>0.2555</td>\n",
       "    </tr>\n",
       "    <tr>\n",
       "      <th>331</th>\n",
       "      <td>0.153833</td>\n",
       "      <td>0.702767</td>\n",
       "      <td>0.162676</td>\n",
       "      <td>0.250459</td>\n",
       "      <td>0.118202</td>\n",
       "    </tr>\n",
       "    <tr>\n",
       "      <th>332</th>\n",
       "      <td>0.203818</td>\n",
       "      <td>0.171459</td>\n",
       "      <td>0.288871</td>\n",
       "      <td>0.028558</td>\n",
       "      <td>0.585093</td>\n",
       "    </tr>\n",
       "    <tr>\n",
       "      <th>333</th>\n",
       "      <td>0.415693</td>\n",
       "      <td>0.408337</td>\n",
       "      <td>0.680057</td>\n",
       "      <td>0.308342</td>\n",
       "      <td>0.083229</td>\n",
       "    </tr>\n",
       "  </tbody>\n",
       "</table>\n",
       "<p>334 rows × 5 columns</p>\n",
       "</div>"
      ],
      "text/plain": [
       "            4         3         2         1         0\n",
       "0    0.714960  0.645409  0.828403  0.058231       0.3\n",
       "1    0.222512  0.103238  0.912980  0.163784  0.875096\n",
       "2    0.848867  0.337132  0.825519  0.864239  0.926726\n",
       "3    0.498275  0.717799  0.885072  0.736826  0.789378\n",
       "4    0.315788  0.055932  0.239729  0.872760  0.531035\n",
       "..        ...       ...       ...       ...       ...\n",
       "329  0.943622  0.042431  0.957361  0.629534  0.731512\n",
       "330  0.992470  0.661902  0.983048  0.376677    0.2555\n",
       "331  0.153833  0.702767  0.162676  0.250459  0.118202\n",
       "332  0.203818  0.171459  0.288871  0.028558  0.585093\n",
       "333  0.415693  0.408337  0.680057  0.308342  0.083229\n",
       "\n",
       "[334 rows x 5 columns]"
      ]
     },
     "execution_count": 32,
     "metadata": {},
     "output_type": "execute_result"
    }
   ],
   "source": [
    "\n",
    "new_data_frame.sort_index(axis=1 , ascending=False)"
   ]
  },
  {
   "cell_type": "code",
   "execution_count": 33,
   "id": "00c3ec51-4aed-4642-976e-db2481b26726",
   "metadata": {},
   "outputs": [
    {
     "data": {
      "text/html": [
       "<div>\n",
       "<style scoped>\n",
       "    .dataframe tbody tr th:only-of-type {\n",
       "        vertical-align: middle;\n",
       "    }\n",
       "\n",
       "    .dataframe tbody tr th {\n",
       "        vertical-align: top;\n",
       "    }\n",
       "\n",
       "    .dataframe thead th {\n",
       "        text-align: right;\n",
       "    }\n",
       "</style>\n",
       "<table border=\"1\" class=\"dataframe\">\n",
       "  <thead>\n",
       "    <tr style=\"text-align: right;\">\n",
       "      <th></th>\n",
       "      <th>0</th>\n",
       "      <th>1</th>\n",
       "      <th>2</th>\n",
       "      <th>3</th>\n",
       "      <th>4</th>\n",
       "    </tr>\n",
       "  </thead>\n",
       "  <tbody>\n",
       "    <tr>\n",
       "      <th>0</th>\n",
       "      <td>0.3</td>\n",
       "      <td>0.058231</td>\n",
       "      <td>0.828403</td>\n",
       "      <td>0.645409</td>\n",
       "      <td>0.714960</td>\n",
       "    </tr>\n",
       "    <tr>\n",
       "      <th>1</th>\n",
       "      <td>0.875096</td>\n",
       "      <td>0.163784</td>\n",
       "      <td>0.912980</td>\n",
       "      <td>0.103238</td>\n",
       "      <td>0.222512</td>\n",
       "    </tr>\n",
       "    <tr>\n",
       "      <th>2</th>\n",
       "      <td>0.926726</td>\n",
       "      <td>0.864239</td>\n",
       "      <td>0.825519</td>\n",
       "      <td>0.337132</td>\n",
       "      <td>0.848867</td>\n",
       "    </tr>\n",
       "    <tr>\n",
       "      <th>3</th>\n",
       "      <td>0.789378</td>\n",
       "      <td>0.736826</td>\n",
       "      <td>0.885072</td>\n",
       "      <td>0.717799</td>\n",
       "      <td>0.498275</td>\n",
       "    </tr>\n",
       "    <tr>\n",
       "      <th>4</th>\n",
       "      <td>0.531035</td>\n",
       "      <td>0.872760</td>\n",
       "      <td>0.239729</td>\n",
       "      <td>0.055932</td>\n",
       "      <td>0.315788</td>\n",
       "    </tr>\n",
       "  </tbody>\n",
       "</table>\n",
       "</div>"
      ],
      "text/plain": [
       "          0         1         2         3         4\n",
       "0       0.3  0.058231  0.828403  0.645409  0.714960\n",
       "1  0.875096  0.163784  0.912980  0.103238  0.222512\n",
       "2  0.926726  0.864239  0.825519  0.337132  0.848867\n",
       "3  0.789378  0.736826  0.885072  0.717799  0.498275\n",
       "4  0.531035  0.872760  0.239729  0.055932  0.315788"
      ]
     },
     "execution_count": 33,
     "metadata": {},
     "output_type": "execute_result"
    }
   ],
   "source": [
    "new_data_frame.head()"
   ]
  },
  {
   "cell_type": "code",
   "execution_count": 34,
   "id": "bb2976ef-a0af-47b7-8d67-b96d068d1a52",
   "metadata": {},
   "outputs": [
    {
     "data": {
      "text/plain": [
       "pandas.core.series.Series"
      ]
     },
     "execution_count": 34,
     "metadata": {},
     "output_type": "execute_result"
    }
   ],
   "source": [
    "type(new_data_frame[0])"
   ]
  },
  {
   "cell_type": "code",
   "execution_count": 35,
   "id": "f8a0dc9e-0e61-4ac2-89f2-68d4ee02f5cd",
   "metadata": {},
   "outputs": [],
   "source": [
    "newdf2 = new_data_frame\n",
    "newdf2[0][0]= 934347"
   ]
  },
  {
   "cell_type": "code",
   "execution_count": 36,
   "id": "e633fc7d-8d88-459d-80e8-f9db6b556418",
   "metadata": {},
   "outputs": [
    {
     "data": {
      "text/html": [
       "<div>\n",
       "<style scoped>\n",
       "    .dataframe tbody tr th:only-of-type {\n",
       "        vertical-align: middle;\n",
       "    }\n",
       "\n",
       "    .dataframe tbody tr th {\n",
       "        vertical-align: top;\n",
       "    }\n",
       "\n",
       "    .dataframe thead th {\n",
       "        text-align: right;\n",
       "    }\n",
       "</style>\n",
       "<table border=\"1\" class=\"dataframe\">\n",
       "  <thead>\n",
       "    <tr style=\"text-align: right;\">\n",
       "      <th></th>\n",
       "      <th>0</th>\n",
       "      <th>1</th>\n",
       "      <th>2</th>\n",
       "      <th>3</th>\n",
       "      <th>4</th>\n",
       "    </tr>\n",
       "  </thead>\n",
       "  <tbody>\n",
       "    <tr>\n",
       "      <th>0</th>\n",
       "      <td>934347</td>\n",
       "      <td>0.058231</td>\n",
       "      <td>0.828403</td>\n",
       "      <td>0.645409</td>\n",
       "      <td>0.714960</td>\n",
       "    </tr>\n",
       "    <tr>\n",
       "      <th>1</th>\n",
       "      <td>0.875096</td>\n",
       "      <td>0.163784</td>\n",
       "      <td>0.912980</td>\n",
       "      <td>0.103238</td>\n",
       "      <td>0.222512</td>\n",
       "    </tr>\n",
       "    <tr>\n",
       "      <th>2</th>\n",
       "      <td>0.926726</td>\n",
       "      <td>0.864239</td>\n",
       "      <td>0.825519</td>\n",
       "      <td>0.337132</td>\n",
       "      <td>0.848867</td>\n",
       "    </tr>\n",
       "    <tr>\n",
       "      <th>3</th>\n",
       "      <td>0.789378</td>\n",
       "      <td>0.736826</td>\n",
       "      <td>0.885072</td>\n",
       "      <td>0.717799</td>\n",
       "      <td>0.498275</td>\n",
       "    </tr>\n",
       "    <tr>\n",
       "      <th>4</th>\n",
       "      <td>0.531035</td>\n",
       "      <td>0.872760</td>\n",
       "      <td>0.239729</td>\n",
       "      <td>0.055932</td>\n",
       "      <td>0.315788</td>\n",
       "    </tr>\n",
       "    <tr>\n",
       "      <th>...</th>\n",
       "      <td>...</td>\n",
       "      <td>...</td>\n",
       "      <td>...</td>\n",
       "      <td>...</td>\n",
       "      <td>...</td>\n",
       "    </tr>\n",
       "    <tr>\n",
       "      <th>329</th>\n",
       "      <td>0.731512</td>\n",
       "      <td>0.629534</td>\n",
       "      <td>0.957361</td>\n",
       "      <td>0.042431</td>\n",
       "      <td>0.943622</td>\n",
       "    </tr>\n",
       "    <tr>\n",
       "      <th>330</th>\n",
       "      <td>0.2555</td>\n",
       "      <td>0.376677</td>\n",
       "      <td>0.983048</td>\n",
       "      <td>0.661902</td>\n",
       "      <td>0.992470</td>\n",
       "    </tr>\n",
       "    <tr>\n",
       "      <th>331</th>\n",
       "      <td>0.118202</td>\n",
       "      <td>0.250459</td>\n",
       "      <td>0.162676</td>\n",
       "      <td>0.702767</td>\n",
       "      <td>0.153833</td>\n",
       "    </tr>\n",
       "    <tr>\n",
       "      <th>332</th>\n",
       "      <td>0.585093</td>\n",
       "      <td>0.028558</td>\n",
       "      <td>0.288871</td>\n",
       "      <td>0.171459</td>\n",
       "      <td>0.203818</td>\n",
       "    </tr>\n",
       "    <tr>\n",
       "      <th>333</th>\n",
       "      <td>0.083229</td>\n",
       "      <td>0.308342</td>\n",
       "      <td>0.680057</td>\n",
       "      <td>0.408337</td>\n",
       "      <td>0.415693</td>\n",
       "    </tr>\n",
       "  </tbody>\n",
       "</table>\n",
       "<p>334 rows × 5 columns</p>\n",
       "</div>"
      ],
      "text/plain": [
       "            0         1         2         3         4\n",
       "0      934347  0.058231  0.828403  0.645409  0.714960\n",
       "1    0.875096  0.163784  0.912980  0.103238  0.222512\n",
       "2    0.926726  0.864239  0.825519  0.337132  0.848867\n",
       "3    0.789378  0.736826  0.885072  0.717799  0.498275\n",
       "4    0.531035  0.872760  0.239729  0.055932  0.315788\n",
       "..        ...       ...       ...       ...       ...\n",
       "329  0.731512  0.629534  0.957361  0.042431  0.943622\n",
       "330    0.2555  0.376677  0.983048  0.661902  0.992470\n",
       "331  0.118202  0.250459  0.162676  0.702767  0.153833\n",
       "332  0.585093  0.028558  0.288871  0.171459  0.203818\n",
       "333  0.083229  0.308342  0.680057  0.408337  0.415693\n",
       "\n",
       "[334 rows x 5 columns]"
      ]
     },
     "execution_count": 36,
     "metadata": {},
     "output_type": "execute_result"
    }
   ],
   "source": [
    "new_data_frame"
   ]
  },
  {
   "cell_type": "markdown",
   "id": "f9580e81-fd6c-4ac2-8f50-99ac2f614471",
   "metadata": {},
   "source": [
    "# Copying the DataFrame Right Way"
   ]
  },
  {
   "cell_type": "code",
   "execution_count": 37,
   "id": "05e95ac4-05d8-4c28-ba0d-b95c25636676",
   "metadata": {},
   "outputs": [
    {
     "data": {
      "text/html": [
       "<div>\n",
       "<style scoped>\n",
       "    .dataframe tbody tr th:only-of-type {\n",
       "        vertical-align: middle;\n",
       "    }\n",
       "\n",
       "    .dataframe tbody tr th {\n",
       "        vertical-align: top;\n",
       "    }\n",
       "\n",
       "    .dataframe thead th {\n",
       "        text-align: right;\n",
       "    }\n",
       "</style>\n",
       "<table border=\"1\" class=\"dataframe\">\n",
       "  <thead>\n",
       "    <tr style=\"text-align: right;\">\n",
       "      <th></th>\n",
       "      <th>0</th>\n",
       "      <th>1</th>\n",
       "      <th>2</th>\n",
       "      <th>3</th>\n",
       "      <th>4</th>\n",
       "    </tr>\n",
       "  </thead>\n",
       "  <tbody>\n",
       "    <tr>\n",
       "      <th>0</th>\n",
       "      <td>934347</td>\n",
       "      <td>0.058231</td>\n",
       "      <td>0.828403</td>\n",
       "      <td>0.645409</td>\n",
       "      <td>0.714960</td>\n",
       "    </tr>\n",
       "    <tr>\n",
       "      <th>1</th>\n",
       "      <td>0.875096</td>\n",
       "      <td>0.163784</td>\n",
       "      <td>0.912980</td>\n",
       "      <td>0.103238</td>\n",
       "      <td>0.222512</td>\n",
       "    </tr>\n",
       "    <tr>\n",
       "      <th>2</th>\n",
       "      <td>0.926726</td>\n",
       "      <td>0.864239</td>\n",
       "      <td>0.825519</td>\n",
       "      <td>0.337132</td>\n",
       "      <td>0.848867</td>\n",
       "    </tr>\n",
       "    <tr>\n",
       "      <th>3</th>\n",
       "      <td>0.789378</td>\n",
       "      <td>0.736826</td>\n",
       "      <td>0.885072</td>\n",
       "      <td>0.717799</td>\n",
       "      <td>0.498275</td>\n",
       "    </tr>\n",
       "    <tr>\n",
       "      <th>4</th>\n",
       "      <td>0.531035</td>\n",
       "      <td>0.872760</td>\n",
       "      <td>0.239729</td>\n",
       "      <td>0.055932</td>\n",
       "      <td>0.315788</td>\n",
       "    </tr>\n",
       "  </tbody>\n",
       "</table>\n",
       "</div>"
      ],
      "text/plain": [
       "          0         1         2         3         4\n",
       "0    934347  0.058231  0.828403  0.645409  0.714960\n",
       "1  0.875096  0.163784  0.912980  0.103238  0.222512\n",
       "2  0.926726  0.864239  0.825519  0.337132  0.848867\n",
       "3  0.789378  0.736826  0.885072  0.717799  0.498275\n",
       "4  0.531035  0.872760  0.239729  0.055932  0.315788"
      ]
     },
     "execution_count": 37,
     "metadata": {},
     "output_type": "execute_result"
    }
   ],
   "source": [
    "df3 = new_data_frame.copy()\n",
    "df3.head()"
   ]
  },
  {
   "cell_type": "code",
   "execution_count": 38,
   "id": "d4126aef-9db8-49c7-8109-96ff1f31b997",
   "metadata": {},
   "outputs": [
    {
     "name": "stderr",
     "output_type": "stream",
     "text": [
      "C:\\Users\\UsEr\\AppData\\Local\\Temp\\ipykernel_17012\\3125743126.py:1: FutureWarning: ChainedAssignmentError: behaviour will change in pandas 3.0!\n",
      "You are setting values through chained assignment. Currently this works in certain cases, but when using Copy-on-Write (which will become the default behaviour in pandas 3.0) this will never work to update the original DataFrame or Series, because the intermediate object on which we are setting values will behave as a copy.\n",
      "A typical example is when you are setting values in a column of a DataFrame, like:\n",
      "\n",
      "df[\"col\"][row_indexer] = value\n",
      "\n",
      "Use `df.loc[row_indexer, \"col\"] = values` instead, to perform the assignment in a single step and ensure this keeps updating the original `df`.\n",
      "\n",
      "See the caveats in the documentation: https://pandas.pydata.org/pandas-docs/stable/user_guide/indexing.html#returning-a-view-versus-a-copy\n",
      "\n",
      "  df3[0][0] = 9\n",
      "C:\\Users\\UsEr\\AppData\\Local\\Temp\\ipykernel_17012\\3125743126.py:1: SettingWithCopyWarning: \n",
      "A value is trying to be set on a copy of a slice from a DataFrame\n",
      "\n",
      "See the caveats in the documentation: https://pandas.pydata.org/pandas-docs/stable/user_guide/indexing.html#returning-a-view-versus-a-copy\n",
      "  df3[0][0] = 9\n"
     ]
    },
    {
     "data": {
      "text/html": [
       "<div>\n",
       "<style scoped>\n",
       "    .dataframe tbody tr th:only-of-type {\n",
       "        vertical-align: middle;\n",
       "    }\n",
       "\n",
       "    .dataframe tbody tr th {\n",
       "        vertical-align: top;\n",
       "    }\n",
       "\n",
       "    .dataframe thead th {\n",
       "        text-align: right;\n",
       "    }\n",
       "</style>\n",
       "<table border=\"1\" class=\"dataframe\">\n",
       "  <thead>\n",
       "    <tr style=\"text-align: right;\">\n",
       "      <th></th>\n",
       "      <th>0</th>\n",
       "      <th>1</th>\n",
       "      <th>2</th>\n",
       "      <th>3</th>\n",
       "      <th>4</th>\n",
       "    </tr>\n",
       "  </thead>\n",
       "  <tbody>\n",
       "    <tr>\n",
       "      <th>0</th>\n",
       "      <td>934347</td>\n",
       "      <td>0.058231</td>\n",
       "      <td>0.828403</td>\n",
       "      <td>0.645409</td>\n",
       "      <td>0.714960</td>\n",
       "    </tr>\n",
       "    <tr>\n",
       "      <th>1</th>\n",
       "      <td>0.875096</td>\n",
       "      <td>0.163784</td>\n",
       "      <td>0.912980</td>\n",
       "      <td>0.103238</td>\n",
       "      <td>0.222512</td>\n",
       "    </tr>\n",
       "    <tr>\n",
       "      <th>2</th>\n",
       "      <td>0.926726</td>\n",
       "      <td>0.864239</td>\n",
       "      <td>0.825519</td>\n",
       "      <td>0.337132</td>\n",
       "      <td>0.848867</td>\n",
       "    </tr>\n",
       "    <tr>\n",
       "      <th>3</th>\n",
       "      <td>0.789378</td>\n",
       "      <td>0.736826</td>\n",
       "      <td>0.885072</td>\n",
       "      <td>0.717799</td>\n",
       "      <td>0.498275</td>\n",
       "    </tr>\n",
       "    <tr>\n",
       "      <th>4</th>\n",
       "      <td>0.531035</td>\n",
       "      <td>0.872760</td>\n",
       "      <td>0.239729</td>\n",
       "      <td>0.055932</td>\n",
       "      <td>0.315788</td>\n",
       "    </tr>\n",
       "  </tbody>\n",
       "</table>\n",
       "</div>"
      ],
      "text/plain": [
       "          0         1         2         3         4\n",
       "0    934347  0.058231  0.828403  0.645409  0.714960\n",
       "1  0.875096  0.163784  0.912980  0.103238  0.222512\n",
       "2  0.926726  0.864239  0.825519  0.337132  0.848867\n",
       "3  0.789378  0.736826  0.885072  0.717799  0.498275\n",
       "4  0.531035  0.872760  0.239729  0.055932  0.315788"
      ]
     },
     "execution_count": 38,
     "metadata": {},
     "output_type": "execute_result"
    }
   ],
   "source": [
    "df3[0][0] = 9\n",
    "new_data_frame.head()"
   ]
  },
  {
   "cell_type": "code",
   "execution_count": 39,
   "id": "b719feb5-9045-46ef-8daa-d7959ab81acb",
   "metadata": {},
   "outputs": [
    {
     "data": {
      "text/html": [
       "<div>\n",
       "<style scoped>\n",
       "    .dataframe tbody tr th:only-of-type {\n",
       "        vertical-align: middle;\n",
       "    }\n",
       "\n",
       "    .dataframe tbody tr th {\n",
       "        vertical-align: top;\n",
       "    }\n",
       "\n",
       "    .dataframe thead th {\n",
       "        text-align: right;\n",
       "    }\n",
       "</style>\n",
       "<table border=\"1\" class=\"dataframe\">\n",
       "  <thead>\n",
       "    <tr style=\"text-align: right;\">\n",
       "      <th></th>\n",
       "      <th>0</th>\n",
       "      <th>1</th>\n",
       "      <th>2</th>\n",
       "      <th>3</th>\n",
       "      <th>4</th>\n",
       "    </tr>\n",
       "  </thead>\n",
       "  <tbody>\n",
       "    <tr>\n",
       "      <th>0</th>\n",
       "      <td>9</td>\n",
       "      <td>0.058231</td>\n",
       "      <td>0.828403</td>\n",
       "      <td>0.645409</td>\n",
       "      <td>0.714960</td>\n",
       "    </tr>\n",
       "    <tr>\n",
       "      <th>1</th>\n",
       "      <td>0.875096</td>\n",
       "      <td>0.163784</td>\n",
       "      <td>0.912980</td>\n",
       "      <td>0.103238</td>\n",
       "      <td>0.222512</td>\n",
       "    </tr>\n",
       "    <tr>\n",
       "      <th>2</th>\n",
       "      <td>0.926726</td>\n",
       "      <td>0.864239</td>\n",
       "      <td>0.825519</td>\n",
       "      <td>0.337132</td>\n",
       "      <td>0.848867</td>\n",
       "    </tr>\n",
       "    <tr>\n",
       "      <th>3</th>\n",
       "      <td>0.789378</td>\n",
       "      <td>0.736826</td>\n",
       "      <td>0.885072</td>\n",
       "      <td>0.717799</td>\n",
       "      <td>0.498275</td>\n",
       "    </tr>\n",
       "    <tr>\n",
       "      <th>4</th>\n",
       "      <td>0.531035</td>\n",
       "      <td>0.872760</td>\n",
       "      <td>0.239729</td>\n",
       "      <td>0.055932</td>\n",
       "      <td>0.315788</td>\n",
       "    </tr>\n",
       "  </tbody>\n",
       "</table>\n",
       "</div>"
      ],
      "text/plain": [
       "          0         1         2         3         4\n",
       "0         9  0.058231  0.828403  0.645409  0.714960\n",
       "1  0.875096  0.163784  0.912980  0.103238  0.222512\n",
       "2  0.926726  0.864239  0.825519  0.337132  0.848867\n",
       "3  0.789378  0.736826  0.885072  0.717799  0.498275\n",
       "4  0.531035  0.872760  0.239729  0.055932  0.315788"
      ]
     },
     "execution_count": 39,
     "metadata": {},
     "output_type": "execute_result"
    }
   ],
   "source": [
    "df3.head()"
   ]
  },
  {
   "cell_type": "markdown",
   "id": "fa2096a0-0ccf-4112-ba1b-99f28a448472",
   "metadata": {},
   "source": [
    "# Loc\n",
    "\n",
    "We can access a specific column by row and column. Row and "
   ]
  },
  {
   "cell_type": "code",
   "execution_count": 40,
   "id": "e5f75e03-148c-4df4-9bb0-1e81f16a3512",
   "metadata": {},
   "outputs": [
    {
     "data": {
      "text/html": [
       "<div>\n",
       "<style scoped>\n",
       "    .dataframe tbody tr th:only-of-type {\n",
       "        vertical-align: middle;\n",
       "    }\n",
       "\n",
       "    .dataframe tbody tr th {\n",
       "        vertical-align: top;\n",
       "    }\n",
       "\n",
       "    .dataframe thead th {\n",
       "        text-align: right;\n",
       "    }\n",
       "</style>\n",
       "<table border=\"1\" class=\"dataframe\">\n",
       "  <thead>\n",
       "    <tr style=\"text-align: right;\">\n",
       "      <th></th>\n",
       "      <th>0</th>\n",
       "      <th>1</th>\n",
       "      <th>2</th>\n",
       "      <th>3</th>\n",
       "      <th>4</th>\n",
       "    </tr>\n",
       "  </thead>\n",
       "  <tbody>\n",
       "    <tr>\n",
       "      <th>0</th>\n",
       "      <td>654</td>\n",
       "      <td>0.058231</td>\n",
       "      <td>0.828403</td>\n",
       "      <td>0.645409</td>\n",
       "      <td>0.714960</td>\n",
       "    </tr>\n",
       "    <tr>\n",
       "      <th>1</th>\n",
       "      <td>0.875096</td>\n",
       "      <td>0.163784</td>\n",
       "      <td>0.912980</td>\n",
       "      <td>0.103238</td>\n",
       "      <td>0.222512</td>\n",
       "    </tr>\n",
       "    <tr>\n",
       "      <th>2</th>\n",
       "      <td>0.926726</td>\n",
       "      <td>0.864239</td>\n",
       "      <td>0.825519</td>\n",
       "      <td>0.337132</td>\n",
       "      <td>0.848867</td>\n",
       "    </tr>\n",
       "    <tr>\n",
       "      <th>3</th>\n",
       "      <td>0.789378</td>\n",
       "      <td>0.736826</td>\n",
       "      <td>0.885072</td>\n",
       "      <td>0.717799</td>\n",
       "      <td>0.498275</td>\n",
       "    </tr>\n",
       "    <tr>\n",
       "      <th>4</th>\n",
       "      <td>0.531035</td>\n",
       "      <td>0.872760</td>\n",
       "      <td>0.239729</td>\n",
       "      <td>0.055932</td>\n",
       "      <td>0.315788</td>\n",
       "    </tr>\n",
       "  </tbody>\n",
       "</table>\n",
       "</div>"
      ],
      "text/plain": [
       "          0         1         2         3         4\n",
       "0       654  0.058231  0.828403  0.645409  0.714960\n",
       "1  0.875096  0.163784  0.912980  0.103238  0.222512\n",
       "2  0.926726  0.864239  0.825519  0.337132  0.848867\n",
       "3  0.789378  0.736826  0.885072  0.717799  0.498275\n",
       "4  0.531035  0.872760  0.239729  0.055932  0.315788"
      ]
     },
     "execution_count": 40,
     "metadata": {},
     "output_type": "execute_result"
    }
   ],
   "source": [
    "df3.loc[0,0] = 654\n",
    "df3.head()"
   ]
  },
  {
   "cell_type": "markdown",
   "id": "6911d210-cf6e-456a-a0f7-0f2b713b2e50",
   "metadata": {},
   "source": [
    "## Updating Colmn Label"
   ]
  },
  {
   "cell_type": "code",
   "execution_count": 41,
   "id": "4ab18f60-6590-4fd8-8b83-3fc6eba0674a",
   "metadata": {},
   "outputs": [
    {
     "data": {
      "text/html": [
       "<div>\n",
       "<style scoped>\n",
       "    .dataframe tbody tr th:only-of-type {\n",
       "        vertical-align: middle;\n",
       "    }\n",
       "\n",
       "    .dataframe tbody tr th {\n",
       "        vertical-align: top;\n",
       "    }\n",
       "\n",
       "    .dataframe thead th {\n",
       "        text-align: right;\n",
       "    }\n",
       "</style>\n",
       "<table border=\"1\" class=\"dataframe\">\n",
       "  <thead>\n",
       "    <tr style=\"text-align: right;\">\n",
       "      <th></th>\n",
       "      <th>A</th>\n",
       "      <th>B</th>\n",
       "      <th>C</th>\n",
       "      <th>D</th>\n",
       "      <th>E</th>\n",
       "    </tr>\n",
       "  </thead>\n",
       "  <tbody>\n",
       "    <tr>\n",
       "      <th>0</th>\n",
       "      <td>654</td>\n",
       "      <td>0.058231</td>\n",
       "      <td>0.828403</td>\n",
       "      <td>0.645409</td>\n",
       "      <td>0.714960</td>\n",
       "    </tr>\n",
       "    <tr>\n",
       "      <th>1</th>\n",
       "      <td>0.875096</td>\n",
       "      <td>0.163784</td>\n",
       "      <td>0.912980</td>\n",
       "      <td>0.103238</td>\n",
       "      <td>0.222512</td>\n",
       "    </tr>\n",
       "    <tr>\n",
       "      <th>2</th>\n",
       "      <td>0.926726</td>\n",
       "      <td>0.864239</td>\n",
       "      <td>0.825519</td>\n",
       "      <td>0.337132</td>\n",
       "      <td>0.848867</td>\n",
       "    </tr>\n",
       "    <tr>\n",
       "      <th>3</th>\n",
       "      <td>0.789378</td>\n",
       "      <td>0.736826</td>\n",
       "      <td>0.885072</td>\n",
       "      <td>0.717799</td>\n",
       "      <td>0.498275</td>\n",
       "    </tr>\n",
       "    <tr>\n",
       "      <th>4</th>\n",
       "      <td>0.531035</td>\n",
       "      <td>0.872760</td>\n",
       "      <td>0.239729</td>\n",
       "      <td>0.055932</td>\n",
       "      <td>0.315788</td>\n",
       "    </tr>\n",
       "  </tbody>\n",
       "</table>\n",
       "</div>"
      ],
      "text/plain": [
       "          A         B         C         D         E\n",
       "0       654  0.058231  0.828403  0.645409  0.714960\n",
       "1  0.875096  0.163784  0.912980  0.103238  0.222512\n",
       "2  0.926726  0.864239  0.825519  0.337132  0.848867\n",
       "3  0.789378  0.736826  0.885072  0.717799  0.498275\n",
       "4  0.531035  0.872760  0.239729  0.055932  0.315788"
      ]
     },
     "execution_count": 41,
     "metadata": {},
     "output_type": "execute_result"
    }
   ],
   "source": [
    "df3.columns = list(\"ABCDE\")\n",
    "df3.head()"
   ]
  },
  {
   "cell_type": "markdown",
   "id": "9ccf9917-9462-4e37-8f5f-9bb23e5ade84",
   "metadata": {},
   "source": [
    "## Accesing unavailable columns creates a new columns"
   ]
  },
  {
   "cell_type": "code",
   "execution_count": 42,
   "id": "3da15485-13f4-451b-8266-504c292f111c",
   "metadata": {},
   "outputs": [
    {
     "data": {
      "text/html": [
       "<div>\n",
       "<style scoped>\n",
       "    .dataframe tbody tr th:only-of-type {\n",
       "        vertical-align: middle;\n",
       "    }\n",
       "\n",
       "    .dataframe tbody tr th {\n",
       "        vertical-align: top;\n",
       "    }\n",
       "\n",
       "    .dataframe thead th {\n",
       "        text-align: right;\n",
       "    }\n",
       "</style>\n",
       "<table border=\"1\" class=\"dataframe\">\n",
       "  <thead>\n",
       "    <tr style=\"text-align: right;\">\n",
       "      <th></th>\n",
       "      <th>A</th>\n",
       "      <th>B</th>\n",
       "      <th>C</th>\n",
       "      <th>D</th>\n",
       "      <th>E</th>\n",
       "      <th>0</th>\n",
       "    </tr>\n",
       "  </thead>\n",
       "  <tbody>\n",
       "    <tr>\n",
       "      <th>0</th>\n",
       "      <td>654</td>\n",
       "      <td>0.058231</td>\n",
       "      <td>0.828403</td>\n",
       "      <td>0.645409</td>\n",
       "      <td>0.714960</td>\n",
       "      <td>654.0</td>\n",
       "    </tr>\n",
       "    <tr>\n",
       "      <th>1</th>\n",
       "      <td>0.875096</td>\n",
       "      <td>0.163784</td>\n",
       "      <td>0.912980</td>\n",
       "      <td>0.103238</td>\n",
       "      <td>0.222512</td>\n",
       "      <td>NaN</td>\n",
       "    </tr>\n",
       "    <tr>\n",
       "      <th>2</th>\n",
       "      <td>0.926726</td>\n",
       "      <td>0.864239</td>\n",
       "      <td>0.825519</td>\n",
       "      <td>0.337132</td>\n",
       "      <td>0.848867</td>\n",
       "      <td>NaN</td>\n",
       "    </tr>\n",
       "  </tbody>\n",
       "</table>\n",
       "</div>"
      ],
      "text/plain": [
       "          A         B         C         D         E      0\n",
       "0       654  0.058231  0.828403  0.645409  0.714960  654.0\n",
       "1  0.875096  0.163784  0.912980  0.103238  0.222512    NaN\n",
       "2  0.926726  0.864239  0.825519  0.337132  0.848867    NaN"
      ]
     },
     "execution_count": 42,
     "metadata": {},
     "output_type": "execute_result"
    }
   ],
   "source": [
    "df3.loc[0,0] = 654\n",
    "df3.head(3)"
   ]
  },
  {
   "cell_type": "code",
   "execution_count": 43,
   "id": "879e3a7b-d982-4589-852a-83bddccfe4c7",
   "metadata": {},
   "outputs": [
    {
     "data": {
      "text/html": [
       "<div>\n",
       "<style scoped>\n",
       "    .dataframe tbody tr th:only-of-type {\n",
       "        vertical-align: middle;\n",
       "    }\n",
       "\n",
       "    .dataframe tbody tr th {\n",
       "        vertical-align: top;\n",
       "    }\n",
       "\n",
       "    .dataframe thead th {\n",
       "        text-align: right;\n",
       "    }\n",
       "</style>\n",
       "<table border=\"1\" class=\"dataframe\">\n",
       "  <thead>\n",
       "    <tr style=\"text-align: right;\">\n",
       "      <th></th>\n",
       "      <th>A</th>\n",
       "      <th>B</th>\n",
       "      <th>C</th>\n",
       "      <th>D</th>\n",
       "      <th>E</th>\n",
       "      <th>0</th>\n",
       "    </tr>\n",
       "  </thead>\n",
       "  <tbody>\n",
       "    <tr>\n",
       "      <th>0</th>\n",
       "      <td>654</td>\n",
       "      <td>0.058231</td>\n",
       "      <td>0.828403</td>\n",
       "      <td>0.645409</td>\n",
       "      <td>0.714960</td>\n",
       "      <td>654.0</td>\n",
       "    </tr>\n",
       "    <tr>\n",
       "      <th>1</th>\n",
       "      <td>0.875096</td>\n",
       "      <td>0.163784</td>\n",
       "      <td>0.912980</td>\n",
       "      <td>0.103238</td>\n",
       "      <td>0.222512</td>\n",
       "      <td>NaN</td>\n",
       "    </tr>\n",
       "    <tr>\n",
       "      <th>2</th>\n",
       "      <td>0.926726</td>\n",
       "      <td>0.864239</td>\n",
       "      <td>0.825519</td>\n",
       "      <td>0.337132</td>\n",
       "      <td>0.848867</td>\n",
       "      <td>NaN</td>\n",
       "    </tr>\n",
       "  </tbody>\n",
       "</table>\n",
       "</div>"
      ],
      "text/plain": [
       "          A         B         C         D         E      0\n",
       "0       654  0.058231  0.828403  0.645409  0.714960  654.0\n",
       "1  0.875096  0.163784  0.912980  0.103238  0.222512    NaN\n",
       "2  0.926726  0.864239  0.825519  0.337132  0.848867    NaN"
      ]
     },
     "execution_count": 43,
     "metadata": {},
     "output_type": "execute_result"
    }
   ],
   "source": [
    "df3.loc[0, 'A'] = 654\n",
    "df3.head(3)"
   ]
  },
  {
   "cell_type": "markdown",
   "id": "0e4bc5b2-e17e-48ae-9c34-f9faedb6446e",
   "metadata": {},
   "source": [
    "# Drop Column/Row\n",
    "axis = 1 is equivilent to column\n",
    "axis = 0 is equivilent to row"
   ]
  },
  {
   "cell_type": "code",
   "execution_count": 44,
   "id": "d00ef508-3e22-476a-9ca1-943e6db11484",
   "metadata": {},
   "outputs": [
    {
     "ename": "KeyError",
     "evalue": "'[(0, 0)] not found in axis'",
     "output_type": "error",
     "traceback": [
      "\u001b[1;31m---------------------------------------------------------------------------\u001b[0m",
      "\u001b[1;31mKeyError\u001b[0m                                  Traceback (most recent call last)",
      "Cell \u001b[1;32mIn[44], line 1\u001b[0m\n\u001b[1;32m----> 1\u001b[0m df3 \u001b[38;5;241m=\u001b[39m \u001b[43mdf3\u001b[49m\u001b[38;5;241;43m.\u001b[39;49m\u001b[43mdrop\u001b[49m\u001b[43m(\u001b[49m\u001b[43m(\u001b[49m\u001b[38;5;241;43m0\u001b[39;49m\u001b[43m,\u001b[49m\u001b[38;5;241;43m0\u001b[39;49m\u001b[43m)\u001b[49m\u001b[43m,\u001b[49m\u001b[43m \u001b[49m\u001b[43maxis\u001b[49m\u001b[38;5;241;43m=\u001b[39;49m\u001b[38;5;241;43m1\u001b[39;49m\u001b[43m)\u001b[49m\n\u001b[0;32m      2\u001b[0m df3\u001b[38;5;241m.\u001b[39mhead()\n",
      "File \u001b[1;32m~\\AppData\\Local\\Programs\\Python\\Python312\\Lib\\site-packages\\pandas\\core\\frame.py:5581\u001b[0m, in \u001b[0;36mDataFrame.drop\u001b[1;34m(self, labels, axis, index, columns, level, inplace, errors)\u001b[0m\n\u001b[0;32m   5433\u001b[0m \u001b[38;5;28;01mdef\u001b[39;00m\u001b[38;5;250m \u001b[39m\u001b[38;5;21mdrop\u001b[39m(\n\u001b[0;32m   5434\u001b[0m     \u001b[38;5;28mself\u001b[39m,\n\u001b[0;32m   5435\u001b[0m     labels: IndexLabel \u001b[38;5;241m|\u001b[39m \u001b[38;5;28;01mNone\u001b[39;00m \u001b[38;5;241m=\u001b[39m \u001b[38;5;28;01mNone\u001b[39;00m,\n\u001b[1;32m   (...)\u001b[0m\n\u001b[0;32m   5442\u001b[0m     errors: IgnoreRaise \u001b[38;5;241m=\u001b[39m \u001b[38;5;124m\"\u001b[39m\u001b[38;5;124mraise\u001b[39m\u001b[38;5;124m\"\u001b[39m,\n\u001b[0;32m   5443\u001b[0m ) \u001b[38;5;241m-\u001b[39m\u001b[38;5;241m>\u001b[39m DataFrame \u001b[38;5;241m|\u001b[39m \u001b[38;5;28;01mNone\u001b[39;00m:\n\u001b[0;32m   5444\u001b[0m \u001b[38;5;250m    \u001b[39m\u001b[38;5;124;03m\"\"\"\u001b[39;00m\n\u001b[0;32m   5445\u001b[0m \u001b[38;5;124;03m    Drop specified labels from rows or columns.\u001b[39;00m\n\u001b[0;32m   5446\u001b[0m \n\u001b[1;32m   (...)\u001b[0m\n\u001b[0;32m   5579\u001b[0m \u001b[38;5;124;03m            weight  1.0     0.8\u001b[39;00m\n\u001b[0;32m   5580\u001b[0m \u001b[38;5;124;03m    \"\"\"\u001b[39;00m\n\u001b[1;32m-> 5581\u001b[0m     \u001b[38;5;28;01mreturn\u001b[39;00m \u001b[38;5;28;43msuper\u001b[39;49m\u001b[43m(\u001b[49m\u001b[43m)\u001b[49m\u001b[38;5;241;43m.\u001b[39;49m\u001b[43mdrop\u001b[49m\u001b[43m(\u001b[49m\n\u001b[0;32m   5582\u001b[0m \u001b[43m        \u001b[49m\u001b[43mlabels\u001b[49m\u001b[38;5;241;43m=\u001b[39;49m\u001b[43mlabels\u001b[49m\u001b[43m,\u001b[49m\n\u001b[0;32m   5583\u001b[0m \u001b[43m        \u001b[49m\u001b[43maxis\u001b[49m\u001b[38;5;241;43m=\u001b[39;49m\u001b[43maxis\u001b[49m\u001b[43m,\u001b[49m\n\u001b[0;32m   5584\u001b[0m \u001b[43m        \u001b[49m\u001b[43mindex\u001b[49m\u001b[38;5;241;43m=\u001b[39;49m\u001b[43mindex\u001b[49m\u001b[43m,\u001b[49m\n\u001b[0;32m   5585\u001b[0m \u001b[43m        \u001b[49m\u001b[43mcolumns\u001b[49m\u001b[38;5;241;43m=\u001b[39;49m\u001b[43mcolumns\u001b[49m\u001b[43m,\u001b[49m\n\u001b[0;32m   5586\u001b[0m \u001b[43m        \u001b[49m\u001b[43mlevel\u001b[49m\u001b[38;5;241;43m=\u001b[39;49m\u001b[43mlevel\u001b[49m\u001b[43m,\u001b[49m\n\u001b[0;32m   5587\u001b[0m \u001b[43m        \u001b[49m\u001b[43minplace\u001b[49m\u001b[38;5;241;43m=\u001b[39;49m\u001b[43minplace\u001b[49m\u001b[43m,\u001b[49m\n\u001b[0;32m   5588\u001b[0m \u001b[43m        \u001b[49m\u001b[43merrors\u001b[49m\u001b[38;5;241;43m=\u001b[39;49m\u001b[43merrors\u001b[49m\u001b[43m,\u001b[49m\n\u001b[0;32m   5589\u001b[0m \u001b[43m    \u001b[49m\u001b[43m)\u001b[49m\n",
      "File \u001b[1;32m~\\AppData\\Local\\Programs\\Python\\Python312\\Lib\\site-packages\\pandas\\core\\generic.py:4788\u001b[0m, in \u001b[0;36mNDFrame.drop\u001b[1;34m(self, labels, axis, index, columns, level, inplace, errors)\u001b[0m\n\u001b[0;32m   4786\u001b[0m \u001b[38;5;28;01mfor\u001b[39;00m axis, labels \u001b[38;5;129;01min\u001b[39;00m axes\u001b[38;5;241m.\u001b[39mitems():\n\u001b[0;32m   4787\u001b[0m     \u001b[38;5;28;01mif\u001b[39;00m labels \u001b[38;5;129;01mis\u001b[39;00m \u001b[38;5;129;01mnot\u001b[39;00m \u001b[38;5;28;01mNone\u001b[39;00m:\n\u001b[1;32m-> 4788\u001b[0m         obj \u001b[38;5;241m=\u001b[39m \u001b[43mobj\u001b[49m\u001b[38;5;241;43m.\u001b[39;49m\u001b[43m_drop_axis\u001b[49m\u001b[43m(\u001b[49m\u001b[43mlabels\u001b[49m\u001b[43m,\u001b[49m\u001b[43m \u001b[49m\u001b[43maxis\u001b[49m\u001b[43m,\u001b[49m\u001b[43m \u001b[49m\u001b[43mlevel\u001b[49m\u001b[38;5;241;43m=\u001b[39;49m\u001b[43mlevel\u001b[49m\u001b[43m,\u001b[49m\u001b[43m \u001b[49m\u001b[43merrors\u001b[49m\u001b[38;5;241;43m=\u001b[39;49m\u001b[43merrors\u001b[49m\u001b[43m)\u001b[49m\n\u001b[0;32m   4790\u001b[0m \u001b[38;5;28;01mif\u001b[39;00m inplace:\n\u001b[0;32m   4791\u001b[0m     \u001b[38;5;28mself\u001b[39m\u001b[38;5;241m.\u001b[39m_update_inplace(obj)\n",
      "File \u001b[1;32m~\\AppData\\Local\\Programs\\Python\\Python312\\Lib\\site-packages\\pandas\\core\\generic.py:4830\u001b[0m, in \u001b[0;36mNDFrame._drop_axis\u001b[1;34m(self, labels, axis, level, errors, only_slice)\u001b[0m\n\u001b[0;32m   4828\u001b[0m         new_axis \u001b[38;5;241m=\u001b[39m axis\u001b[38;5;241m.\u001b[39mdrop(labels, level\u001b[38;5;241m=\u001b[39mlevel, errors\u001b[38;5;241m=\u001b[39merrors)\n\u001b[0;32m   4829\u001b[0m     \u001b[38;5;28;01melse\u001b[39;00m:\n\u001b[1;32m-> 4830\u001b[0m         new_axis \u001b[38;5;241m=\u001b[39m \u001b[43maxis\u001b[49m\u001b[38;5;241;43m.\u001b[39;49m\u001b[43mdrop\u001b[49m\u001b[43m(\u001b[49m\u001b[43mlabels\u001b[49m\u001b[43m,\u001b[49m\u001b[43m \u001b[49m\u001b[43merrors\u001b[49m\u001b[38;5;241;43m=\u001b[39;49m\u001b[43merrors\u001b[49m\u001b[43m)\u001b[49m\n\u001b[0;32m   4831\u001b[0m     indexer \u001b[38;5;241m=\u001b[39m axis\u001b[38;5;241m.\u001b[39mget_indexer(new_axis)\n\u001b[0;32m   4833\u001b[0m \u001b[38;5;66;03m# Case for non-unique axis\u001b[39;00m\n\u001b[0;32m   4834\u001b[0m \u001b[38;5;28;01melse\u001b[39;00m:\n",
      "File \u001b[1;32m~\\AppData\\Local\\Programs\\Python\\Python312\\Lib\\site-packages\\pandas\\core\\indexes\\base.py:7070\u001b[0m, in \u001b[0;36mIndex.drop\u001b[1;34m(self, labels, errors)\u001b[0m\n\u001b[0;32m   7068\u001b[0m \u001b[38;5;28;01mif\u001b[39;00m mask\u001b[38;5;241m.\u001b[39many():\n\u001b[0;32m   7069\u001b[0m     \u001b[38;5;28;01mif\u001b[39;00m errors \u001b[38;5;241m!=\u001b[39m \u001b[38;5;124m\"\u001b[39m\u001b[38;5;124mignore\u001b[39m\u001b[38;5;124m\"\u001b[39m:\n\u001b[1;32m-> 7070\u001b[0m         \u001b[38;5;28;01mraise\u001b[39;00m \u001b[38;5;167;01mKeyError\u001b[39;00m(\u001b[38;5;124mf\u001b[39m\u001b[38;5;124m\"\u001b[39m\u001b[38;5;132;01m{\u001b[39;00mlabels[mask]\u001b[38;5;241m.\u001b[39mtolist()\u001b[38;5;132;01m}\u001b[39;00m\u001b[38;5;124m not found in axis\u001b[39m\u001b[38;5;124m\"\u001b[39m)\n\u001b[0;32m   7071\u001b[0m     indexer \u001b[38;5;241m=\u001b[39m indexer[\u001b[38;5;241m~\u001b[39mmask]\n\u001b[0;32m   7072\u001b[0m \u001b[38;5;28;01mreturn\u001b[39;00m \u001b[38;5;28mself\u001b[39m\u001b[38;5;241m.\u001b[39mdelete(indexer)\n",
      "\u001b[1;31mKeyError\u001b[0m: '[(0, 0)] not found in axis'"
     ]
    }
   ],
   "source": [
    "df3 = df3.drop((0,0), axis=1)\n",
    "df3.head()"
   ]
  },
  {
   "cell_type": "code",
   "execution_count": null,
   "id": "ca65efe6-9d9f-4334-ab6a-0acbae2abe50",
   "metadata": {},
   "outputs": [],
   "source": [
    "df3 = df3.drop(0, axis=1)\n",
    "df3.head()"
   ]
  },
  {
   "cell_type": "markdown",
   "id": "e5d5e87c-2ddd-4d06-b762-1445393128fd",
   "metadata": {},
   "source": [
    "# Accessing Specific Rows & Columns\n",
    "df3.loc[rows, columns]"
   ]
  },
  {
   "cell_type": "code",
   "execution_count": null,
   "id": "fbe2d506-7510-4c1b-9f3e-9fc41dcc1d60",
   "metadata": {},
   "outputs": [],
   "source": [
    "df3.loc[[1,2], ['A', 'E']]"
   ]
  },
  {
   "cell_type": "code",
   "execution_count": null,
   "id": "a168737d-a77c-4f26-8b74-e6fe01ecefe9",
   "metadata": {},
   "outputs": [],
   "source": [
    "df3.loc[[1,2], ['A', 'E']]"
   ]
  },
  {
   "cell_type": "code",
   "execution_count": null,
   "id": "7bc21866-f101-42c5-a80d-8a1dcee2f6b8",
   "metadata": {},
   "outputs": [],
   "source": [
    "df3.head()"
   ]
  },
  {
   "cell_type": "code",
   "execution_count": null,
   "id": "6ec0a871-aa57-42f7-a3c0-1c07d3ccb1ba",
   "metadata": {},
   "outputs": [],
   "source": [
    "df3.loc[:, :]"
   ]
  },
  {
   "cell_type": "code",
   "execution_count": null,
   "id": "0bf5f624-4a8f-4d47-aa90-3daa60983b35",
   "metadata": {},
   "outputs": [],
   "source": [
    "df3.loc[[1,2], :]"
   ]
  },
  {
   "cell_type": "code",
   "execution_count": null,
   "id": "2575a238-fa5e-4dd0-aa0d-026d0d58dd35",
   "metadata": {},
   "outputs": [],
   "source": [
    "df3.loc[(df3['A'] < 0.3)]"
   ]
  },
  {
   "cell_type": "code",
   "execution_count": null,
   "id": "34546a29-5885-4d32-b2f3-fd99ec0f571b",
   "metadata": {},
   "outputs": [],
   "source": [
    "df3.loc[(df3['A'] < 0.3) & df3['C'] > 0.1]"
   ]
  },
  {
   "cell_type": "markdown",
   "id": "582b0396-f145-40f0-be60-9e2cee02d3ef",
   "metadata": {},
   "source": [
    "# iLoc - Use when want to use Index\n",
    "Use iloc when want to retrive based on index.\n",
    "For example accessing df3.iloc[row, column]\n",
    "This gives a specific value."
   ]
  },
  {
   "cell_type": "code",
   "execution_count": null,
   "id": "fff14fe3-318d-4278-9556-9412fb33c611",
   "metadata": {},
   "outputs": [],
   "source": [
    "df3.iloc[0,4]"
   ]
  },
  {
   "cell_type": "code",
   "execution_count": null,
   "id": "0871b715-c1ca-4309-9399-f1a51cb85271",
   "metadata": {},
   "outputs": [],
   "source": [
    "df3.iloc[[0,5],[0,4]]"
   ]
  },
  {
   "cell_type": "code",
   "execution_count": null,
   "id": "b8494a20-b54a-43e7-89d4-16435ab0d371",
   "metadata": {},
   "outputs": [],
   "source": [
    "df3.iloc[:,:]"
   ]
  },
  {
   "cell_type": "code",
   "execution_count": null,
   "id": "c7b7e760-8f79-4e93-bb7a-23279cd14bba",
   "metadata": {},
   "outputs": [],
   "source": [
    "df3.iloc[[0,5],:]"
   ]
  },
  {
   "cell_type": "code",
   "execution_count": null,
   "id": "68f5a3e1-04ae-4609-9e52-15e0219b4b23",
   "metadata": {},
   "outputs": [],
   "source": [
    "df3.drop([0])"
   ]
  },
  {
   "cell_type": "code",
   "execution_count": null,
   "id": "6932731e-6a32-40f0-a5cc-2fc4b0181d77",
   "metadata": {},
   "outputs": [],
   "source": [
    "df3.drop(['A', 0], axis=1, inplace=True)"
   ]
  },
  {
   "cell_type": "code",
   "execution_count": null,
   "id": "4c4e6fde-d211-4d27-a3d0-5186b7c696a1",
   "metadata": {},
   "outputs": [],
   "source": [
    "df3.drop(['A', 0], axis=1)"
   ]
  },
  {
   "cell_type": "markdown",
   "id": "480286a5-4490-407e-8e5c-4cd3a051beeb",
   "metadata": {},
   "source": [
    "## Inplace - Update the Origional One\n",
    "For example `df3 = df3.drop(['A'], axis=1)`"
   ]
  },
  {
   "cell_type": "code",
   "execution_count": null,
   "id": "45aba41b-78fe-4187-a6b3-362e277b53d4",
   "metadata": {},
   "outputs": [],
   "source": [
    "df3.drop(['A', 0], axis=1, inplace=True)"
   ]
  },
  {
   "cell_type": "markdown",
   "id": "53a889b5-afcf-46ea-bd89-588a0c8008eb",
   "metadata": {},
   "source": [
    "# Reset Index\n",
    "It resets the indexes to start from 1\n",
    "`drop=True` means drop the current index column\n",
    "`inplace` means update the origional dataframe"
   ]
  },
  {
   "cell_type": "code",
   "execution_count": null,
   "id": "684146d4-ccda-4974-9c6e-bd634a80f47e",
   "metadata": {},
   "outputs": [],
   "source": [
    "df3.reset_index(drop = True, inplace=True)"
   ]
  },
  {
   "cell_type": "code",
   "execution_count": null,
   "id": "dd6ec50b-dfbe-4cf5-9aff-402ae6ccb49e",
   "metadata": {},
   "outputs": [],
   "source": [
    "df3"
   ]
  },
  {
   "cell_type": "markdown",
   "id": "e7855e4e-4af6-4823-bf11-a800a7d5c8e6",
   "metadata": {},
   "source": [
    "# Is Null"
   ]
  },
  {
   "cell_type": "code",
   "execution_count": null,
   "id": "a583256c-b6e6-48fb-ab77-5965fc75c947",
   "metadata": {},
   "outputs": [],
   "source": [
    "df3['B'].isnull()"
   ]
  },
  {
   "cell_type": "markdown",
   "id": "33097536-8cb6-4497-accb-5331918eabd0",
   "metadata": {},
   "source": [
    "# Update Value to None"
   ]
  },
  {
   "cell_type": "code",
   "execution_count": null,
   "id": "58649b57-7db7-4a7d-93f7-c0f506e388b9",
   "metadata": {},
   "outputs": [],
   "source": [
    "df3['B'] = None"
   ]
  },
  {
   "cell_type": "code",
   "execution_count": null,
   "id": "71e303de-458b-4fb4-b5a7-5bc51fcbd420",
   "metadata": {},
   "outputs": [],
   "source": [
    "df3"
   ]
  },
  {
   "cell_type": "code",
   "execution_count": null,
   "id": "281118a5-e4f7-47e7-812c-d74c0d914426",
   "metadata": {},
   "outputs": [],
   "source": [
    "df3.loc[:, ['B']] = None"
   ]
  },
  {
   "cell_type": "code",
   "execution_count": null,
   "id": "c9d47bd7-77d1-4b7a-9f52-db95bea23283",
   "metadata": {},
   "outputs": [],
   "source": [
    "df3"
   ]
  },
  {
   "cell_type": "code",
   "execution_count": null,
   "id": "9a8f73df-3b5f-403b-851b-e0020173a702",
   "metadata": {},
   "outputs": [],
   "source": [
    "df3['B'].isnull()"
   ]
  },
  {
   "cell_type": "markdown",
   "id": "2427eed9-ab44-48eb-89f5-fb27c6548fad",
   "metadata": {},
   "source": [
    "# Dropna"
   ]
  },
  {
   "cell_type": "code",
   "execution_count": 57,
   "id": "07701ab1-6558-4f9d-b2c1-53896dcfae9a",
   "metadata": {},
   "outputs": [],
   "source": [
    "df = pd.DataFrame({\"name\": ['Alfred', 'Batman', 'Catwoman', 'Alfred'],\n",
    "\n",
    "                   \"toy\": [np.nan, 'Batmobile', 'Bullwhip', np.nan],\n",
    "\n",
    "                   \"born\": [pd.NaT, pd.Timestamp(\"1940-04-25\"),\n",
    "\n",
    "                            pd.NaT, pd.NaT]})"
   ]
  },
  {
   "cell_type": "code",
   "execution_count": null,
   "id": "baa8ef53-d448-4be1-af09-01381ed4797f",
   "metadata": {},
   "outputs": [],
   "source": [
    "df.dropna()"
   ]
  },
  {
   "cell_type": "code",
   "execution_count": 45,
   "id": "88ba03ba-eeb6-4873-a94c-b5955151b704",
   "metadata": {},
   "outputs": [
    {
     "data": {
      "text/html": [
       "<div>\n",
       "<style scoped>\n",
       "    .dataframe tbody tr th:only-of-type {\n",
       "        vertical-align: middle;\n",
       "    }\n",
       "\n",
       "    .dataframe tbody tr th {\n",
       "        vertical-align: top;\n",
       "    }\n",
       "\n",
       "    .dataframe thead th {\n",
       "        text-align: right;\n",
       "    }\n",
       "</style>\n",
       "<table border=\"1\" class=\"dataframe\">\n",
       "  <thead>\n",
       "    <tr style=\"text-align: right;\">\n",
       "      <th></th>\n",
       "      <th>name</th>\n",
       "      <th>marks</th>\n",
       "    </tr>\n",
       "  </thead>\n",
       "  <tbody>\n",
       "    <tr>\n",
       "      <th>0</th>\n",
       "      <td>Harry</td>\n",
       "      <td>10</td>\n",
       "    </tr>\n",
       "    <tr>\n",
       "      <th>1</th>\n",
       "      <td>Rohan</td>\n",
       "      <td>20</td>\n",
       "    </tr>\n",
       "    <tr>\n",
       "      <th>2</th>\n",
       "      <td>Ali</td>\n",
       "      <td>30</td>\n",
       "    </tr>\n",
       "  </tbody>\n",
       "</table>\n",
       "</div>"
      ],
      "text/plain": [
       "    name  marks\n",
       "0  Harry     10\n",
       "1  Rohan     20\n",
       "2    Ali     30"
      ]
     },
     "execution_count": 45,
     "metadata": {},
     "output_type": "execute_result"
    }
   ],
   "source": [
    "# Remove Column by defining axis = 1\n",
    "df.dropna(how='all', axis=1)"
   ]
  },
  {
   "cell_type": "markdown",
   "id": "870f539a-5a44-43c4-9b0f-b298dd1e67fe",
   "metadata": {},
   "source": [
    "# Drop Duplicates"
   ]
  },
  {
   "cell_type": "code",
   "execution_count": 58,
   "id": "c800b936-dafc-4e06-8671-bdeed406712a",
   "metadata": {},
   "outputs": [
    {
     "data": {
      "text/html": [
       "<div>\n",
       "<style scoped>\n",
       "    .dataframe tbody tr th:only-of-type {\n",
       "        vertical-align: middle;\n",
       "    }\n",
       "\n",
       "    .dataframe tbody tr th {\n",
       "        vertical-align: top;\n",
       "    }\n",
       "\n",
       "    .dataframe thead th {\n",
       "        text-align: right;\n",
       "    }\n",
       "</style>\n",
       "<table border=\"1\" class=\"dataframe\">\n",
       "  <thead>\n",
       "    <tr style=\"text-align: right;\">\n",
       "      <th></th>\n",
       "      <th>name</th>\n",
       "      <th>toy</th>\n",
       "      <th>born</th>\n",
       "    </tr>\n",
       "  </thead>\n",
       "  <tbody>\n",
       "    <tr>\n",
       "      <th>0</th>\n",
       "      <td>Alfred</td>\n",
       "      <td>NaN</td>\n",
       "      <td>NaT</td>\n",
       "    </tr>\n",
       "    <tr>\n",
       "      <th>1</th>\n",
       "      <td>Batman</td>\n",
       "      <td>Batmobile</td>\n",
       "      <td>1940-04-25</td>\n",
       "    </tr>\n",
       "    <tr>\n",
       "      <th>2</th>\n",
       "      <td>Catwoman</td>\n",
       "      <td>Bullwhip</td>\n",
       "      <td>NaT</td>\n",
       "    </tr>\n",
       "  </tbody>\n",
       "</table>\n",
       "</div>"
      ],
      "text/plain": [
       "       name        toy       born\n",
       "0    Alfred        NaN        NaT\n",
       "1    Batman  Batmobile 1940-04-25\n",
       "2  Catwoman   Bullwhip        NaT"
      ]
     },
     "execution_count": 58,
     "metadata": {},
     "output_type": "execute_result"
    }
   ],
   "source": [
    "df.drop_duplicates()"
   ]
  },
  {
   "cell_type": "code",
   "execution_count": 59,
   "id": "8613331c-fb5f-4fc1-ae1e-94cab44bc908",
   "metadata": {},
   "outputs": [
    {
     "data": {
      "text/html": [
       "<div>\n",
       "<style scoped>\n",
       "    .dataframe tbody tr th:only-of-type {\n",
       "        vertical-align: middle;\n",
       "    }\n",
       "\n",
       "    .dataframe tbody tr th {\n",
       "        vertical-align: top;\n",
       "    }\n",
       "\n",
       "    .dataframe thead th {\n",
       "        text-align: right;\n",
       "    }\n",
       "</style>\n",
       "<table border=\"1\" class=\"dataframe\">\n",
       "  <thead>\n",
       "    <tr style=\"text-align: right;\">\n",
       "      <th></th>\n",
       "      <th>name</th>\n",
       "      <th>toy</th>\n",
       "      <th>born</th>\n",
       "    </tr>\n",
       "  </thead>\n",
       "  <tbody>\n",
       "    <tr>\n",
       "      <th>1</th>\n",
       "      <td>Batman</td>\n",
       "      <td>Batmobile</td>\n",
       "      <td>1940-04-25</td>\n",
       "    </tr>\n",
       "    <tr>\n",
       "      <th>2</th>\n",
       "      <td>Catwoman</td>\n",
       "      <td>Bullwhip</td>\n",
       "      <td>NaT</td>\n",
       "    </tr>\n",
       "  </tbody>\n",
       "</table>\n",
       "</div>"
      ],
      "text/plain": [
       "       name        toy       born\n",
       "1    Batman  Batmobile 1940-04-25\n",
       "2  Catwoman   Bullwhip        NaT"
      ]
     },
     "execution_count": 59,
     "metadata": {},
     "output_type": "execute_result"
    }
   ],
   "source": [
    "df.drop_duplicates(subset=['name'], keep=False)"
   ]
  },
  {
   "cell_type": "markdown",
   "id": "1bedebae-f15d-4718-8d0f-15d6ad021523",
   "metadata": {},
   "source": [
    "# Shape"
   ]
  },
  {
   "cell_type": "code",
   "execution_count": 61,
   "id": "fe3e58c4-36bc-4ede-9a41-06dff04566cc",
   "metadata": {},
   "outputs": [
    {
     "data": {
      "text/plain": [
       "(4, 3)"
      ]
     },
     "execution_count": 61,
     "metadata": {},
     "output_type": "execute_result"
    }
   ],
   "source": [
    "df.shape"
   ]
  },
  {
   "cell_type": "markdown",
   "id": "35bc0f93-a8a4-43e3-9b33-1ea6448a028b",
   "metadata": {},
   "source": [
    "# Info"
   ]
  },
  {
   "cell_type": "code",
   "execution_count": 62,
   "id": "15fcc257-e2ef-4d68-b60d-c4c501a04ca5",
   "metadata": {},
   "outputs": [
    {
     "data": {
      "text/plain": [
       "<bound method DataFrame.info of        name        toy       born\n",
       "0    Alfred        NaN        NaT\n",
       "1    Batman  Batmobile 1940-04-25\n",
       "2  Catwoman   Bullwhip        NaT\n",
       "3    Alfred        NaN        NaT>"
      ]
     },
     "execution_count": 62,
     "metadata": {},
     "output_type": "execute_result"
    }
   ],
   "source": [
    "df.info"
   ]
  },
  {
   "cell_type": "markdown",
   "id": "1c470333-10fd-4ac4-b478-eacec09cd9a4",
   "metadata": {},
   "source": [
    "# Value Counts"
   ]
  },
  {
   "cell_type": "code",
   "execution_count": 65,
   "id": "3d4c4a12-153e-4fc5-986c-00a40424002d",
   "metadata": {},
   "outputs": [
    {
     "data": {
      "text/plain": [
       "name\n",
       "Alfred      2\n",
       "Batman      1\n",
       "Catwoman    1\n",
       "Name: count, dtype: int64"
      ]
     },
     "execution_count": 65,
     "metadata": {},
     "output_type": "execute_result"
    }
   ],
   "source": [
    "df['name'].value_counts()"
   ]
  },
  {
   "cell_type": "markdown",
   "id": "8268add9-243a-4b1a-b263-389a817dfb04",
   "metadata": {},
   "source": [
    "# Count Unique"
   ]
  },
  {
   "cell_type": "code",
   "execution_count": 68,
   "id": "3879cdf7-3118-4a0f-a711-09e1c6b60b73",
   "metadata": {},
   "outputs": [
    {
     "data": {
      "text/plain": [
       "name\n",
       "Alfred      2\n",
       "Batman      1\n",
       "Catwoman    1\n",
       "Name: count, dtype: int64"
      ]
     },
     "execution_count": 68,
     "metadata": {},
     "output_type": "execute_result"
    }
   ],
   "source": [
    "df['name'].value_counts(dropna=True)"
   ]
  },
  {
   "cell_type": "code",
   "execution_count": 69,
   "id": "3059ff2d-2016-47de-a083-8e80507778d9",
   "metadata": {},
   "outputs": [
    {
     "data": {
      "text/html": [
       "<div>\n",
       "<style scoped>\n",
       "    .dataframe tbody tr th:only-of-type {\n",
       "        vertical-align: middle;\n",
       "    }\n",
       "\n",
       "    .dataframe tbody tr th {\n",
       "        vertical-align: top;\n",
       "    }\n",
       "\n",
       "    .dataframe thead th {\n",
       "        text-align: right;\n",
       "    }\n",
       "</style>\n",
       "<table border=\"1\" class=\"dataframe\">\n",
       "  <thead>\n",
       "    <tr style=\"text-align: right;\">\n",
       "      <th></th>\n",
       "      <th>name</th>\n",
       "      <th>toy</th>\n",
       "      <th>born</th>\n",
       "    </tr>\n",
       "  </thead>\n",
       "  <tbody>\n",
       "    <tr>\n",
       "      <th>0</th>\n",
       "      <td>False</td>\n",
       "      <td>True</td>\n",
       "      <td>True</td>\n",
       "    </tr>\n",
       "    <tr>\n",
       "      <th>1</th>\n",
       "      <td>False</td>\n",
       "      <td>False</td>\n",
       "      <td>False</td>\n",
       "    </tr>\n",
       "    <tr>\n",
       "      <th>2</th>\n",
       "      <td>False</td>\n",
       "      <td>False</td>\n",
       "      <td>True</td>\n",
       "    </tr>\n",
       "    <tr>\n",
       "      <th>3</th>\n",
       "      <td>False</td>\n",
       "      <td>True</td>\n",
       "      <td>True</td>\n",
       "    </tr>\n",
       "  </tbody>\n",
       "</table>\n",
       "</div>"
      ],
      "text/plain": [
       "    name    toy   born\n",
       "0  False   True   True\n",
       "1  False  False  False\n",
       "2  False  False   True\n",
       "3  False   True   True"
      ]
     },
     "execution_count": 69,
     "metadata": {},
     "output_type": "execute_result"
    }
   ],
   "source": [
    "df.isnull()"
   ]
  },
  {
   "cell_type": "code",
   "execution_count": 70,
   "id": "da5ffe3b-1e11-4a0e-8901-c2a2fcc0fd5e",
   "metadata": {},
   "outputs": [
    {
     "data": {
      "text/html": [
       "<div>\n",
       "<style scoped>\n",
       "    .dataframe tbody tr th:only-of-type {\n",
       "        vertical-align: middle;\n",
       "    }\n",
       "\n",
       "    .dataframe tbody tr th {\n",
       "        vertical-align: top;\n",
       "    }\n",
       "\n",
       "    .dataframe thead th {\n",
       "        text-align: right;\n",
       "    }\n",
       "</style>\n",
       "<table border=\"1\" class=\"dataframe\">\n",
       "  <thead>\n",
       "    <tr style=\"text-align: right;\">\n",
       "      <th></th>\n",
       "      <th>born</th>\n",
       "    </tr>\n",
       "  </thead>\n",
       "  <tbody>\n",
       "    <tr>\n",
       "      <th>count</th>\n",
       "      <td>1</td>\n",
       "    </tr>\n",
       "    <tr>\n",
       "      <th>mean</th>\n",
       "      <td>1940-04-25 00:00:00</td>\n",
       "    </tr>\n",
       "    <tr>\n",
       "      <th>min</th>\n",
       "      <td>1940-04-25 00:00:00</td>\n",
       "    </tr>\n",
       "    <tr>\n",
       "      <th>25%</th>\n",
       "      <td>1940-04-25 00:00:00</td>\n",
       "    </tr>\n",
       "    <tr>\n",
       "      <th>50%</th>\n",
       "      <td>1940-04-25 00:00:00</td>\n",
       "    </tr>\n",
       "    <tr>\n",
       "      <th>75%</th>\n",
       "      <td>1940-04-25 00:00:00</td>\n",
       "    </tr>\n",
       "    <tr>\n",
       "      <th>max</th>\n",
       "      <td>1940-04-25 00:00:00</td>\n",
       "    </tr>\n",
       "  </tbody>\n",
       "</table>\n",
       "</div>"
      ],
      "text/plain": [
       "                      born\n",
       "count                    1\n",
       "mean   1940-04-25 00:00:00\n",
       "min    1940-04-25 00:00:00\n",
       "25%    1940-04-25 00:00:00\n",
       "50%    1940-04-25 00:00:00\n",
       "75%    1940-04-25 00:00:00\n",
       "max    1940-04-25 00:00:00"
      ]
     },
     "execution_count": 70,
     "metadata": {},
     "output_type": "execute_result"
    }
   ],
   "source": [
    "df.describe()"
   ]
  },
  {
   "cell_type": "code",
   "execution_count": null,
   "id": "b44f5f25-829c-4926-b236-a7cc042646b0",
   "metadata": {},
   "outputs": [],
   "source": [
    "df.mean(axis=1)\n",
    "df.corr()\n",
    "df.count()\n",
    "df.max()\n",
    "df.min()\n",
    "df.median()\n",
    "df.std()"
   ]
  }
 ],
 "metadata": {
  "kernelspec": {
   "display_name": "Python 3 (ipykernel)",
   "language": "python",
   "name": "python3"
  },
  "language_info": {
   "codemirror_mode": {
    "name": "ipython",
    "version": 3
   },
   "file_extension": ".py",
   "mimetype": "text/x-python",
   "name": "python",
   "nbconvert_exporter": "python",
   "pygments_lexer": "ipython3",
   "version": "3.12.2"
  }
 },
 "nbformat": 4,
 "nbformat_minor": 5
}
